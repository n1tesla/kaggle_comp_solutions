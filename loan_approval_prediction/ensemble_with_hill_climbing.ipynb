{
 "cells": [
  {
   "cell_type": "code",
   "execution_count": 1,
   "id": "21c31f19-9bc4-4a92-b00f-5c054a29002a",
   "metadata": {},
   "outputs": [
    {
     "name": "stderr",
     "output_type": "stream",
     "text": [
      "\n",
      "[notice] A new release of pip is available: 24.1.1 -> 24.2\n",
      "[notice] To update, run: python.exe -m pip install --upgrade pip\n"
     ]
    }
   ],
   "source": [
    "!pip install -q hillclimbers"
   ]
  },
  {
   "cell_type": "code",
   "execution_count": 188,
   "id": "4e5efee6-ea48-451d-bd84-b25055c4b147",
   "metadata": {},
   "outputs": [],
   "source": [
    "from sklearn.ensemble import HistGradientBoostingClassifier, GradientBoostingClassifier\n",
    "from sklearn.feature_selection import mutual_info_classif\n",
    "from sklearn.linear_model import LogisticRegression, LinearRegression\n",
    "from sklearn.model_selection import StratifiedKFold\n",
    "from sklearn.preprocessing import OrdinalEncoder\n",
    "from sklearn.metrics import roc_auc_score\n",
    "from sklearn.base import clone\n",
    "from hillclimbers import climb_hill, partial\n",
    "from scipy.special import logit\n",
    "from catboost import CatBoostClassifier, Pool\n",
    "from lightgbm import LGBMClassifier\n",
    "from xgboost import XGBClassifier\n",
    "import matplotlib.pyplot as plt\n",
    "import seaborn as sns\n",
    "import pandas as pd\n",
    "import numpy as np\n",
    "import warnings\n",
    "import pickle\n",
    "import shutil\n",
    "import os\n",
    "import gc\n",
    "import optuna\n",
    "from optuna.samplers import TPESampler\n",
    "\n",
    "warnings.filterwarnings('ignore')"
   ]
  },
  {
   "cell_type": "markdown",
   "id": "a79b5b91-ec2c-4623-905b-c7a9633866ad",
   "metadata": {},
   "source": [
    "Observations:\n",
    "\n",
    "The dataset is relatively small compared to those we've seen in recent months in the playground series. It is also imbalanced, with the minority class representing less than 15%.\n",
    "It contains 4 categorical features, all of which have low cardinality. The remaining features are numerical.\n",
    "There are no missing values.\n",
    "Most of the models I plan to use can by default handle categorical features. However, HistGradientBoostingClassifier only accepts numerical features. For this model, I will encode the categorical features using OrdinalEncoder.\n",
    "Below, I have created a small function that converts the data types of categorical features to the category type and encodes them into numerical values if necessary. The same preprocessing steps are also applied to the original dataset. Note that the original dataset will only be used for training, for validation during training only the competition data is used."
   ]
  },
  {
   "cell_type": "code",
   "execution_count": 189,
   "id": "c78a159e-acd8-452d-87cd-3cab29ae5ef3",
   "metadata": {},
   "outputs": [],
   "source": [
    "def get_data(encode=False, impute=False, for_catboost=False,drop_cols:list=None,drop_outliers:bool=False, concat:bool=False):\n",
    "    train = pd.read_csv(\"train.csv\", index_col='id')\n",
    "    test = pd.read_csv(\"test.csv\", index_col='id')\n",
    "    original = pd.read_csv(\"credit_risk_dataset.csv\")\n",
    "    if drop_cols:\n",
    "        train = train.drop(columns=drop_cols)\n",
    "        test = test.drop(columns=drop_cols)\n",
    "        original = original.drop(columns=drop_cols)\n",
    "    if impute:\n",
    "        original['person_emp_length'] = original['person_emp_length'].fillna(original['person_emp_length'].median())\n",
    "        original['loan_int_rate'] = original['loan_int_rate'].fillna(original['loan_int_rate'].mean())\n",
    "        \n",
    "    if drop_outliers:\n",
    "        train = train.drop(train[train['person_age'] > 62].index)\n",
    "        train = train.drop(train[train['person_emp_length'] > 30].index)\n",
    "        train = train.reset_index(drop=True)\n",
    "        original = original.drop(original[original['person_age'] > 62].index)\n",
    "        original = original.drop(original[original['person_emp_length'] > 30].index)\n",
    "        original = original.reset_index(drop=True)\n",
    "        # train = train.drop(train[train['loan_int_rate']>21].index,axis=0,errors='ignore')\n",
    "        # train = train.drop(train[train['cb_person_cred_hist_length']>28].index,axis=0,errors='ignore')\n",
    "    \n",
    "    if for_catboost:\n",
    "        cat_cols = test.columns.tolist()\n",
    "    else:\n",
    "        cat_cols = test.select_dtypes(include='object').columns.tolist()\n",
    "        \n",
    "    train[cat_cols] = train[cat_cols].astype(str).astype('category')\n",
    "    test[cat_cols] = test[cat_cols].astype(str).astype('category')\n",
    "    original[cat_cols] = original[cat_cols].astype(str).astype('category')\n",
    "    \n",
    "    if encode:\n",
    "        encoder = OrdinalEncoder()\n",
    "        train[cat_cols] = encoder.fit_transform(train[cat_cols])\n",
    "        test[cat_cols] = encoder.transform(test[cat_cols])\n",
    "        original[cat_cols] = encoder.transform(original[cat_cols])\n",
    "        \n",
    "    X = train.drop('loan_status', axis=1)\n",
    "    y = train['loan_status']\n",
    "    X_test = test\n",
    "    \n",
    "    X_original = original.drop('loan_status', axis=1)\n",
    "    y_original = original['loan_status']\n",
    "\n",
    "    if concat:\n",
    "        X = pd.concat([X, X_original], ignore_index=True)\n",
    "        y = pd.concat([y, y_original], ignore_index=True)\n",
    "        return X, y, X_test\n",
    "        \n",
    "    return X, y, X_test, X_original, y_original"
   ]
  },
  {
   "cell_type": "code",
   "execution_count": 203,
   "id": "eb571f25-b78e-4cdc-b98a-ef7525d1db37",
   "metadata": {},
   "outputs": [],
   "source": [
    "def build_model(model_name,trial=None,params=None):\n",
    "    if trial is not None:\n",
    "        search_params={\n",
    "        \"CatBoost\":{\n",
    "            'loss_function': 'Logloss',\n",
    "            'eval_metric': 'AUC',\n",
    "            'learning_rate': trial.suggest_float('learning_rate', 0.01, 0.3, log=True),\n",
    "            'iterations': 1000,\n",
    "            'depth': trial.suggest_int('depth', 6, 12),\n",
    "            'subsample': trial.suggest_float('subsample', 0.6, 1.0),\n",
    "            'colsample_bylevel': trial.suggest_float('colsample_bylevel', 0.6, 1.0),\n",
    "            'random_strength':0,\n",
    "            'l2_leaf_reg': trial.suggest_float('l2_leaf_reg', 1e-3, 10.0, log=True),\n",
    "            'task_type':'CPU',\n",
    "            'random_seed':42,\n",
    "            'verbose':True\n",
    "            },\n",
    "        \"XGBoost\" : {\n",
    "            'objective': 'binary:logistic',\n",
    "            'eval_metric': 'auc',\n",
    "            'learning_rate': trial.suggest_float('learning_rate', 0.01, 0.3, log=True),\n",
    "            'n_estimators': 1000,\n",
    "            'max_depth': trial.suggest_int('max_depth', 6, 12),\n",
    "            'subsample': trial.suggest_float('subsample', 0.6, 1.0),\n",
    "            'colsample_bytree': trial.suggest_float('colsample_bytree', 0.6, 1.0),\n",
    "            'lambda': trial.suggest_float('lambda', 1e-3, 10.0, log=True),\n",
    "            'alpha': trial.suggest_float('alpha', 1e-3, 10.0, log=True),\n",
    "            'random_state': 42,\n",
    "            'n_jobs': -1,\n",
    "            'tree_method': 'hist'  \n",
    "        },\n",
    "        \"LightGBM\" : {\n",
    "            'objective': 'binary:logistic',\n",
    "            'num_leaves': trial.suggest_int('num_leaves', 100, 500),\n",
    "            'learning_rate': trial.suggest_float('learning_rate', 0.01, 1.0, log=True),\n",
    "            'n_estimators': trial.suggest_int('n_estimators', 300, 1200),\n",
    "            'subsample_for_bin': trial.suggest_int('subsample_for_bin', 20000, 300000),\n",
    "            'min_child_samples': trial.suggest_int('min_child_samples', 20, 500),\n",
    "            'reg_alpha': trial.suggest_float('reg_alpha', 1e-9, 10.0, log=True),\n",
    "            'reg_lambda': trial.suggest_float('reg_lambda', 1e-9, 10.0, log=True),\n",
    "            'colsample_bytree': trial.suggest_float('colsample_bytree', 0.4, 1.0),\n",
    "            'subsample': trial.suggest_float('subsample', 0.25, 1.0),\n",
    "            'max_depth': trial.suggest_int('max_depth', 1, 15)\n",
    "        }\n",
    "        }\n",
    "        params = search_params[model_name]\n",
    "        \n",
    "    if model_name==\"CatBoost\":\n",
    "        model = CatBoostClassifier(**params,early_stopping_rounds = 15)\n",
    "    elif model_name == \"LightGBM\":\n",
    "        model=LGBMClassifier(**params,early_stopping_rounds = 10)\n",
    "    elif model_name == \"XGBoost\":\n",
    "        model=XGBClassifier(**params,early_stopping_rounds = 100)\n",
    "    return model"
   ]
  },
  {
   "cell_type": "code",
   "execution_count": 204,
   "id": "ce5ce3c9-b0c7-4a55-bb24-616de8230255",
   "metadata": {},
   "outputs": [],
   "source": [
    "# # Using optuna to tune hyperparameters a little bit\n",
    "class Tuner:\n",
    "    def __init__(self,model_name, X,y):\n",
    "        self.model_name = model_name\n",
    "        self.X=X\n",
    "        self.y=y\n",
    "        \n",
    "    def objective_CatBoost(self,trial):\n",
    "        model = build_model(self.model_name,trial)\n",
    "        cv = StratifiedKFold(5, shuffle=True, random_state=0)\n",
    "        cv_splits = cv.split(self.X, self.y)\n",
    "        scores = list()\n",
    "        for train_idx, val_idx in cv_splits:\n",
    "            X_train_fold, X_val_fold = X.loc[train_idx], X.loc[val_idx]\n",
    "            y_train_fold, y_val_fold = y.loc[train_idx], y.loc[val_idx]\n",
    "\n",
    "            X_train_pool = Pool(X_train_fold, y_train_fold, cat_features=X.columns.values)\n",
    "            X_val_pool = Pool(X_val_fold, y_val_fold, cat_features=X.columns.values)\n",
    "            model.fit(X=X_train_pool, eval_set=X_val_pool, verbose=False)\n",
    "            val_pred = model.predict_proba(X_val_pool)[:, 1]\n",
    "            score = roc_auc_score(y_val_fold, val_pred)\n",
    "            scores.append(score)  \n",
    "        return np.mean(scores)\n",
    "        \n",
    "    def objective_LightGBM(self,trial):\n",
    "        model = build_model(self.model_name,trial)\n",
    "        cv = StratifiedKFold(5, shuffle=True, random_state=0)\n",
    "        cv_splits = cv.split(self.X, self.y)\n",
    "        scores = list()\n",
    "        categorical_features = self.X.select_dtypes(include=[\"category\"]).columns.tolist()\n",
    "\n",
    "        for train_idx, val_idx in cv_splits:\n",
    "            X_train, X_val= X.loc[train_idx], X.loc[val_idx]\n",
    "            y_train, y_val = y.loc[train_idx], y.loc[val_idx]\n",
    "            model.fit(X=X_train,y=y_train, eval_set=(X_val,y_val), verbose=False,categorial_features=categorical_features)\n",
    "            val_pred = model.predict_proba(X_val)[:, 1]\n",
    "            score = roc_auc_score(y_val, val_pred)\n",
    "            scores.append(score)\n",
    "        return np.mean(scores)\n",
    "\n",
    "\n",
    "    \n",
    "    def objective_XGBoost(self,trial):\n",
    "        model = build_model(self.model_name,trial)\n",
    "        cv = StratifiedKFold(5, shuffle=True, random_state=0)\n",
    "        cv_splits = cv.split(self.X, self.y)\n",
    "        for train_idx, val_idx in cv_splits:\n",
    "\n",
    "            X_train, X_val = X.loc[train_idx], X.loc[val_idx]\n",
    "            y_train, y_val = y.loc[train_idx], y.loc[val_idx]\n",
    "            dtrain = xgb.DMatrix(X_train, label=y_train)\n",
    "            dval = xgb.DMatrix(X_val, label=y_val)\n",
    "            # Train XGBoost model\n",
    "            model = xgb.train(params, dtrain, evals=[(dval, 'eval')], verbose_eval=False)\n",
    "            # val_pred = model.predict_proba(X_valid)[:, 1]\n",
    "            val_pred = model.predict(dval)\n",
    "            score = roc_auc_score(y_val, val_pred)\n",
    "            scores.append(score)  \n",
    "        return np.mean(scores)"
   ]
  },
  {
   "cell_type": "code",
   "execution_count": 205,
   "id": "b53f9a90-4013-4919-b095-ae54fa9e3cf1",
   "metadata": {},
   "outputs": [
    {
     "name": "stderr",
     "output_type": "stream",
     "text": [
      "[I 2024-10-15 10:06:19,241] A new study created in memory with name: CatBoost\n",
      "[I 2024-10-15 10:18:40,978] Trial 0 finished with value: 0.9635597209605077 and parameters: {'learning_rate': 0.03574712922600244, 'depth': 12, 'subsample': 0.892797576724562, 'colsample_bylevel': 0.8394633936788146, 'l2_leaf_reg': 0.004207988669606638, 'max_depth': 7, 'colsample_bytree': 0.6232334448672797, 'lambda': 2.9154431891537547, 'alpha': 0.2537815508265665, 'num_leaves': 383, 'n_estimators': 318, 'subsample_for_bin': 291575, 'min_child_samples': 420, 'reg_alpha': 1.3285903900544215e-07, 'reg_lambda': 6.580360277501321e-08}. Best is trial 0 with value: 0.9635597209605077.\n",
      "[I 2024-10-15 10:42:40,608] Trial 1 finished with value: 0.9542090132860619 and parameters: {'learning_rate': 0.018659959624904916, 'depth': 8, 'subsample': 0.8099025726528951, 'colsample_bylevel': 0.7727780074568463, 'l2_leaf_reg': 0.014618962793704957, 'max_depth': 10, 'colsample_bytree': 0.6557975442608167, 'lambda': 0.01474275315991467, 'alpha': 0.029204338471814112, 'num_leaves': 282, 'n_estimators': 1007, 'subsample_for_bin': 75908, 'min_child_samples': 267, 'reg_alpha': 0.0008397416393796032, 'reg_lambda': 2.9140978279786284e-09}. Best is trial 0 with value: 0.9635597209605077.\n",
      "[I 2024-10-15 10:55:28,609] Trial 2 finished with value: 0.9661429542328689 and parameters: {'learning_rate': 0.07896186801026692, 'depth': 7, 'subsample': 0.6260206371941118, 'colsample_bylevel': 0.9795542149013333, 'l2_leaf_reg': 7.2866537374910445, 'max_depth': 11, 'colsample_bytree': 0.7218455076693483, 'lambda': 0.002458603276328005, 'alpha': 0.5456725485601477, 'num_leaves': 276, 'n_estimators': 409, 'subsample_for_bin': 158650, 'min_child_samples': 36, 'reg_alpha': 1.2393786791908126, 'reg_lambda': 3.8707918324734553e-07}. Best is trial 2 with value: 0.9661429542328689.\n",
      "[I 2024-10-15 11:01:13,658] Trial 3 finished with value: 0.9649449081684583 and parameters: {'learning_rate': 0.09519754482692679, 'depth': 8, 'subsample': 0.8080272084711243, 'colsample_bylevel': 0.8186841117373118, 'l2_leaf_reg': 0.0054880470007660455, 'max_depth': 12, 'colsample_bytree': 0.9100531293444458, 'lambda': 5.727904470799623, 'alpha': 3.7958531426706403, 'num_leaves': 339, 'n_estimators': 1130, 'subsample_for_bin': 44777, 'min_child_samples': 114, 'reg_alpha': 2.833171661121259e-09, 'reg_lambda': 1.7918568349691404e-06}. Best is trial 2 with value: 0.9661429542328689.\n",
      "[I 2024-10-15 11:18:24,917] Trial 4 finished with value: 0.9658843588407396 and parameters: {'learning_rate': 0.03750796359625606, 'depth': 7, 'subsample': 0.9314950036607718, 'colsample_bylevel': 0.7427013306774357, 'l2_leaf_reg': 0.013296521457299506, 'max_depth': 9, 'colsample_bytree': 0.6563696899899051, 'lambda': 1.6172900811143154, 'alpha': 0.0019870215385428634, 'num_leaves': 495, 'n_estimators': 995, 'subsample_for_bin': 75640, 'min_child_samples': 22, 'reg_alpha': 0.14276254602325675, 'reg_lambda': 0.011710446072783376}. Best is trial 2 with value: 0.9661429542328689.\n",
      "[I 2024-10-15 11:22:52,346] Trial 5 finished with value: 0.9624428411162775 and parameters: {'learning_rate': 0.11935262708510537, 'depth': 11, 'subsample': 0.6296178606936361, 'colsample_bylevel': 0.7433862914177091, 'l2_leaf_reg': 0.0029072088906598446, 'max_depth': 12, 'colsample_bytree': 0.8493192507310232, 'lambda': 0.021066486017042207, 'alpha': 0.0017956984225677636, 'num_leaves': 224, 'n_estimators': 592, 'subsample_for_bin': 224290, 'min_child_samples': 326, 'reg_alpha': 0.7449505167783329, 'reg_lambda': 5.274110827759778e-05}. Best is trial 2 with value: 0.9661429542328689.\n",
      "[I 2024-10-15 11:51:19,641] Trial 6 finished with value: 0.9401670835301148 and parameters: {'learning_rate': 0.015019490572374374, 'depth': 10, 'subsample': 0.9043140194467589, 'colsample_bylevel': 0.8245108790277985, 'l2_leaf_reg': 1.2130221181165162, 'max_depth': 9, 'colsample_bytree': 0.8090931317527976, 'lambda': 0.05130551760589835, 'alpha': 0.0012637946338082875, 'num_leaves': 143, 'n_estimators': 328, 'subsample_for_bin': 198195, 'min_child_samples': 171, 'reg_alpha': 0.00012181672280647571, 'reg_lambda': 1.1903227641050307}. Best is trial 2 with value: 0.9661429542328689.\n",
      "[I 2024-10-15 12:19:53,257] Trial 7 finished with value: 0.9658461275876459 and parameters: {'learning_rate': 0.02334720250903525, 'depth': 8, 'subsample': 0.9022204554172195, 'colsample_bylevel': 0.6915192661966489, 'l2_leaf_reg': 0.0020319809838424984, 'max_depth': 8, 'colsample_bytree': 0.6644885149016018, 'lambda': 5.233480488540088, 'alpha': 1.7079750342958235, 'num_leaves': 353, 'n_estimators': 1085, 'subsample_for_bin': 245028, 'min_child_samples': 109, 'reg_alpha': 0.8425389456449339, 'reg_lambda': 0.00024741294520451467}. Best is trial 2 with value: 0.9661429542328689.\n",
      "[I 2024-10-15 12:24:30,082] Trial 8 finished with value: 0.9607279733418779 and parameters: {'learning_rate': 0.1558428978238547, 'depth': 12, 'subsample': 0.7272013899887455, 'colsample_bylevel': 0.6440207698110707, 'l2_leaf_reg': 0.008160948743089917, 'max_depth': 8, 'colsample_bytree': 0.9272059063689972, 'lambda': 2.7728241828010627, 'alpha': 0.001066125968943389, 'num_leaves': 304, 'n_estimators': 676, 'subsample_for_bin': 82190, 'min_child_samples': 77, 'reg_alpha': 2.377670743931732e-06, 'reg_lambda': 2.6859445283244594}. Best is trial 2 with value: 0.9661429542328689.\n",
      "[I 2024-10-15 12:46:50,515] Trial 9 finished with value: 0.9531051924511136 and parameters: {'learning_rate': 0.030019946952402964, 'depth': 9, 'subsample': 0.881207583558071, 'colsample_bylevel': 0.7454518409517176, 'l2_leaf_reg': 7.711312991331111, 'max_depth': 12, 'colsample_bytree': 0.7007129183301457, 'lambda': 0.09749762207436122, 'alpha': 0.015977662354833867, 'num_leaves': 214, 'n_estimators': 333, 'subsample_for_bin': 190678, 'min_child_samples': 261, 'reg_alpha': 3.271805758909018e-09, 'reg_lambda': 6.11596008474303e-07}. Best is trial 2 with value: 0.9661429542328689.\n",
      "[I 2024-10-15 12:54:33,318] Trial 10 finished with value: 0.9659202789229819 and parameters: {'learning_rate': 0.21959317857485672, 'depth': 7, 'subsample': 0.6579579488364892, 'colsample_bylevel': 0.7957811041110252, 'l2_leaf_reg': 8.761971101023693, 'max_depth': 7, 'colsample_bytree': 0.8688542189623514, 'lambda': 1.1129571947046013, 'alpha': 0.00892380714337978, 'num_leaves': 392, 'n_estimators': 631, 'subsample_for_bin': 197046, 'min_child_samples': 324, 'reg_alpha': 0.00022790132007071548, 'reg_lambda': 7.996458736748041e-09}. Best is trial 2 with value: 0.9661429542328689.\n",
      "[I 2024-10-15 13:00:46,093] Trial 11 finished with value: 0.9651798069527573 and parameters: {'learning_rate': 0.17133380914396035, 'depth': 8, 'subsample': 0.6746074041599417, 'colsample_bylevel': 0.6163100566219055, 'l2_leaf_reg': 0.2309786149269357, 'max_depth': 10, 'colsample_bytree': 0.6066351315711425, 'lambda': 0.11178209200698727, 'alpha': 0.008053471030316102, 'num_leaves': 358, 'n_estimators': 457, 'subsample_for_bin': 213463, 'min_child_samples': 206, 'reg_alpha': 2.329699397510121, 'reg_lambda': 2.3725175925188467e-08}. Best is trial 2 with value: 0.9661429542328689.\n",
      "[I 2024-10-15 13:27:30,933] Trial 12 finished with value: 0.9656980197687203 and parameters: {'learning_rate': 0.03190041672417551, 'depth': 6, 'subsample': 0.9698774473114251, 'colsample_bylevel': 0.9509357413523924, 'l2_leaf_reg': 0.01075886630676792, 'max_depth': 10, 'colsample_bytree': 0.9268888800804863, 'lambda': 0.16626592254031874, 'alpha': 0.13140210226207386, 'num_leaves': 196, 'n_estimators': 383, 'subsample_for_bin': 271221, 'min_child_samples': 453, 'reg_alpha': 0.002142962506928497, 'reg_lambda': 2.4563933358965526e-06}. Best is trial 2 with value: 0.9661429542328689.\n",
      "[I 2024-10-15 14:04:05,684] Trial 13 finished with value: 0.9660616701462788 and parameters: {'learning_rate': 0.03279630261284468, 'depth': 11, 'subsample': 0.9588441039810308, 'colsample_bylevel': 0.954834569706047, 'l2_leaf_reg': 1.3167465326936145, 'max_depth': 10, 'colsample_bytree': 0.6336559859980195, 'lambda': 0.004431133722857619, 'alpha': 3.928409513479229, 'num_leaves': 343, 'n_estimators': 308, 'subsample_for_bin': 48412, 'min_child_samples': 339, 'reg_alpha': 1.1236106280303907e-09, 'reg_lambda': 4.055837199445212e-08}. Best is trial 2 with value: 0.9661429542328689.\n",
      "[I 2024-10-15 14:15:38,850] Trial 14 finished with value: 0.9657938593337446 and parameters: {'learning_rate': 0.064646697464924, 'depth': 10, 'subsample': 0.8607845038010402, 'colsample_bylevel': 0.689707723784224, 'l2_leaf_reg': 0.7058572590901792, 'max_depth': 7, 'colsample_bytree': 0.7301598792637071, 'lambda': 0.9682012086882473, 'alpha': 0.39676339357448603, 'num_leaves': 440, 'n_estimators': 892, 'subsample_for_bin': 179126, 'min_child_samples': 65, 'reg_alpha': 4.755082218704323e-06, 'reg_lambda': 4.4876985525024235e-07}. Best is trial 2 with value: 0.9661429542328689.\n",
      "[I 2024-10-15 14:29:34,822] Trial 15 finished with value: 0.9283779355334498 and parameters: {'learning_rate': 0.022929906728696717, 'depth': 12, 'subsample': 0.7572390898667042, 'colsample_bylevel': 0.9568186220708453, 'l2_leaf_reg': 0.33462201030483824, 'max_depth': 11, 'colsample_bytree': 0.8010548372420768, 'lambda': 0.20305586522289132, 'alpha': 0.09334064019986364, 'num_leaves': 178, 'n_estimators': 950, 'subsample_for_bin': 98616, 'min_child_samples': 31, 'reg_alpha': 0.002849200153510705, 'reg_lambda': 5.9034622990004304e-08}. Best is trial 2 with value: 0.9661429542328689.\n",
      "Training has stopped (degenerate solution on iteration 31, probably too small l2-regularization, try to increase it)\n",
      "[I 2024-10-15 14:32:28,540] Trial 16 finished with value: 0.9574319259910661 and parameters: {'learning_rate': 0.24500297851058134, 'depth': 12, 'subsample': 0.9659457560881795, 'colsample_bylevel': 0.7480634801021777, 'l2_leaf_reg': 0.0011529924570330221, 'max_depth': 12, 'colsample_bytree': 0.7712736593269257, 'lambda': 7.355619850853311, 'alpha': 7.152863022216533, 'num_leaves': 442, 'n_estimators': 565, 'subsample_for_bin': 127827, 'min_child_samples': 429, 'reg_alpha': 1.476454444716113e-06, 'reg_lambda': 4.9536745073253616e-08}. Best is trial 2 with value: 0.9661429542328689.\n",
      "[I 2024-10-15 14:40:53,114] Trial 17 finished with value: 0.9624804394209916 and parameters: {'learning_rate': 0.066445103068906, 'depth': 12, 'subsample': 0.8784119186699892, 'colsample_bylevel': 0.828024468035746, 'l2_leaf_reg': 0.0024474057445796832, 'max_depth': 10, 'colsample_bytree': 0.9960215400417053, 'lambda': 0.0036335911653931643, 'alpha': 0.118390978347577, 'num_leaves': 451, 'n_estimators': 967, 'subsample_for_bin': 215165, 'min_child_samples': 357, 'reg_alpha': 3.934698975228859e-06, 'reg_lambda': 8.628165018682934e-07}. Best is trial 2 with value: 0.9661429542328689.\n",
      "[I 2024-10-15 14:45:11,320] Trial 18 finished with value: 0.9617943700051477 and parameters: {'learning_rate': 0.1568644624233575, 'depth': 11, 'subsample': 0.9468289274320415, 'colsample_bylevel': 0.9652962210225885, 'l2_leaf_reg': 0.11101191524846071, 'max_depth': 9, 'colsample_bytree': 0.9193180715867101, 'lambda': 0.3979749374103114, 'alpha': 0.6424916813668934, 'num_leaves': 419, 'n_estimators': 1101, 'subsample_for_bin': 114638, 'min_child_samples': 200, 'reg_alpha': 8.706014745820682e-09, 'reg_lambda': 0.0006064589504104218}. Best is trial 2 with value: 0.9661429542328689.\n",
      "[I 2024-10-15 15:08:06,031] Trial 19 finished with value: 0.9411842782323022 and parameters: {'learning_rate': 0.011300329228083602, 'depth': 9, 'subsample': 0.8170578538830306, 'colsample_bylevel': 0.7146165008513138, 'l2_leaf_reg': 0.23085168151108015, 'max_depth': 6, 'colsample_bytree': 0.6149392754996857, 'lambda': 1.9516513783265599, 'alpha': 0.027590690254397858, 'num_leaves': 150, 'n_estimators': 770, 'subsample_for_bin': 235598, 'min_child_samples': 123, 'reg_alpha': 0.0016939662688892068, 'reg_lambda': 7.136325486927297e-09}. Best is trial 2 with value: 0.9661429542328689.\n",
      "[I 2024-10-15 15:24:46,093] Trial 20 finished with value: 0.9278438646185577 and parameters: {'learning_rate': 0.011921754348704775, 'depth': 9, 'subsample': 0.8162540486440426, 'colsample_bylevel': 0.8549719605992826, 'l2_leaf_reg': 0.8023527304678846, 'max_depth': 12, 'colsample_bytree': 0.8065201393204782, 'lambda': 0.019580595319750406, 'alpha': 1.5161591075671732, 'num_leaves': 208, 'n_estimators': 695, 'subsample_for_bin': 41967, 'min_child_samples': 32, 'reg_alpha': 4.231400633880345, 'reg_lambda': 0.22898192661096758}. Best is trial 2 with value: 0.9661429542328689.\n",
      "[I 2024-10-15 15:31:15,366] Trial 21 finished with value: 0.9654006632789178 and parameters: {'learning_rate': 0.10666901691534954, 'depth': 8, 'subsample': 0.6693177280283383, 'colsample_bylevel': 0.6625748170684344, 'l2_leaf_reg': 0.01002239679114334, 'max_depth': 9, 'colsample_bytree': 0.8858383690800249, 'lambda': 0.43731009905162666, 'alpha': 0.013174543864342761, 'num_leaves': 482, 'n_estimators': 964, 'subsample_for_bin': 175219, 'min_child_samples': 314, 'reg_alpha': 1.5703650616578762e-05, 'reg_lambda': 3.0013033640166067e-07}. Best is trial 2 with value: 0.9661429542328689.\n",
      "[I 2024-10-15 15:45:42,679] Trial 22 finished with value: 0.9641773471397024 and parameters: {'learning_rate': 0.03355944807567019, 'depth': 11, 'subsample': 0.6057573954519023, 'colsample_bylevel': 0.6464290562027665, 'l2_leaf_reg': 0.0015276032303600073, 'max_depth': 6, 'colsample_bytree': 0.9421842336044028, 'lambda': 0.6525765108342366, 'alpha': 0.07883068789768044, 'num_leaves': 139, 'n_estimators': 742, 'subsample_for_bin': 152572, 'min_child_samples': 103, 'reg_alpha': 2.1803011927864974e-05, 'reg_lambda': 9.661561973449778e-06}. Best is trial 2 with value: 0.9661429542328689.\n",
      "[I 2024-10-15 15:56:17,031] Trial 23 finished with value: 0.9652594699568681 and parameters: {'learning_rate': 0.08122416764542911, 'depth': 10, 'subsample': 0.6181216039088178, 'colsample_bylevel': 0.7498450458505885, 'l2_leaf_reg': 0.3187422711813415, 'max_depth': 9, 'colsample_bytree': 0.9425959364753289, 'lambda': 0.43129510236174595, 'alpha': 0.004484744524732795, 'num_leaves': 128, 'n_estimators': 878, 'subsample_for_bin': 27423, 'min_child_samples': 301, 'reg_alpha': 2.525238571247983, 'reg_lambda': 0.0005685148048578903}. Best is trial 2 with value: 0.9661429542328689.\n",
      "[I 2024-10-15 16:16:46,122] Trial 24 finished with value: 0.9661357344182185 and parameters: {'learning_rate': 0.03744329404265238, 'depth': 10, 'subsample': 0.7833011561966067, 'colsample_bylevel': 0.818246715726374, 'l2_leaf_reg': 5.83256026854689, 'max_depth': 8, 'colsample_bytree': 0.9844762255295657, 'lambda': 4.182178526757455, 'alpha': 0.006069662445477732, 'num_leaves': 127, 'n_estimators': 390, 'subsample_for_bin': 25102, 'min_child_samples': 65, 'reg_alpha': 0.006761884280008195, 'reg_lambda': 5.15093992303058e-09}. Best is trial 2 with value: 0.9661429542328689.\n",
      "[I 2024-10-15 16:33:54,176] Trial 25 finished with value: 0.9646455692261295 and parameters: {'learning_rate': 0.0295914116290919, 'depth': 11, 'subsample': 0.6093087742943303, 'colsample_bylevel': 0.9257873930355743, 'l2_leaf_reg': 0.01340970114587244, 'max_depth': 6, 'colsample_bytree': 0.8786948661456602, 'lambda': 0.3279226289997166, 'alpha': 3.2351025657883583, 'num_leaves': 394, 'n_estimators': 1023, 'subsample_for_bin': 98969, 'min_child_samples': 105, 'reg_alpha': 0.03207358580050728, 'reg_lambda': 0.11704352492209397}. Best is trial 2 with value: 0.9661429542328689.\n",
      "[I 2024-10-15 16:36:13,343] Trial 26 finished with value: 0.9638864302244332 and parameters: {'learning_rate': 0.2904665979638737, 'depth': 8, 'subsample': 0.7488072343171133, 'colsample_bylevel': 0.9105651842967988, 'l2_leaf_reg': 0.02307884981527798, 'max_depth': 12, 'colsample_bytree': 0.9433651007372047, 'lambda': 0.05199673923878321, 'alpha': 1.008055099993063, 'num_leaves': 402, 'n_estimators': 392, 'subsample_for_bin': 272715, 'min_child_samples': 263, 'reg_alpha': 0.18389700704424702, 'reg_lambda': 1.5867043424511828e-06}. Best is trial 2 with value: 0.9661429542328689.\n",
      "[I 2024-10-15 16:38:44,066] Trial 27 finished with value: 0.9629880426638492 and parameters: {'learning_rate': 0.21027923816150645, 'depth': 8, 'subsample': 0.6043350605921193, 'colsample_bylevel': 0.9621527905677054, 'l2_leaf_reg': 0.0023181776112903506, 'max_depth': 8, 'colsample_bytree': 0.980024786820322, 'lambda': 6.344955605329754, 'alpha': 0.19667608399443096, 'num_leaves': 353, 'n_estimators': 704, 'subsample_for_bin': 102099, 'min_child_samples': 178, 'reg_alpha': 0.005311101004809911, 'reg_lambda': 0.033399909832452654}. Best is trial 2 with value: 0.9661429542328689.\n",
      "[I 2024-10-15 16:42:02,464] Trial 28 finished with value: 0.9615405492792464 and parameters: {'learning_rate': 0.14765842451489417, 'depth': 11, 'subsample': 0.6364824412194762, 'colsample_bylevel': 0.7977681218810326, 'l2_leaf_reg': 0.0016991629902581911, 'max_depth': 9, 'colsample_bytree': 0.7766122005493508, 'lambda': 3.554812765190895, 'alpha': 0.025331450012450227, 'num_leaves': 146, 'n_estimators': 428, 'subsample_for_bin': 233223, 'min_child_samples': 317, 'reg_alpha': 1.0261875969294314e-08, 'reg_lambda': 6.935344858595968e-09}. Best is trial 2 with value: 0.9661429542328689.\n",
      "[I 2024-10-15 16:51:07,762] Trial 29 finished with value: 0.9655337065622163 and parameters: {'learning_rate': 0.10849666851072169, 'depth': 6, 'subsample': 0.9287440237161425, 'colsample_bylevel': 0.8824968908625985, 'l2_leaf_reg': 0.002115412774188856, 'max_depth': 6, 'colsample_bytree': 0.9946558314004702, 'lambda': 0.03141110271934876, 'alpha': 0.030378658251922184, 'num_leaves': 425, 'n_estimators': 1153, 'subsample_for_bin': 296081, 'min_child_samples': 382, 'reg_alpha': 5.788897439030893e-06, 'reg_lambda': 6.839229336926554e-09}. Best is trial 2 with value: 0.9661429542328689.\n",
      "[I 2024-10-15 16:55:22,261] Trial 30 finished with value: 0.9640677320262776 and parameters: {'learning_rate': 0.14058540215254572, 'depth': 9, 'subsample': 0.7696888036987906, 'colsample_bylevel': 0.9625417540378944, 'l2_leaf_reg': 0.0027847738314446878, 'max_depth': 9, 'colsample_bytree': 0.6045414579069676, 'lambda': 0.07492772870670285, 'alpha': 0.001679627987843051, 'num_leaves': 147, 'n_estimators': 405, 'subsample_for_bin': 201779, 'min_child_samples': 378, 'reg_alpha': 0.0006818481256137474, 'reg_lambda': 4.185289315567454}. Best is trial 2 with value: 0.9661429542328689.\n",
      "[I 2024-10-15 17:21:21,121] Trial 31 finished with value: 0.9664132319114629 and parameters: {'learning_rate': 0.03578733022836808, 'depth': 7, 'subsample': 0.9474396512757841, 'colsample_bylevel': 0.6894383354077811, 'l2_leaf_reg': 7.126727573532314, 'max_depth': 6, 'colsample_bytree': 0.9879515306830556, 'lambda': 0.001488125805418616, 'alpha': 3.669209039695911, 'num_leaves': 311, 'n_estimators': 1194, 'subsample_for_bin': 40663, 'min_child_samples': 286, 'reg_alpha': 4.932025986432036, 'reg_lambda': 0.00017020740156555792}. Best is trial 31 with value: 0.9664132319114629.\n",
      "[I 2024-10-15 17:28:41,233] Trial 32 finished with value: 0.9651914553305175 and parameters: {'learning_rate': 0.08505465867325865, 'depth': 10, 'subsample': 0.7818164259071093, 'colsample_bylevel': 0.8510232320336253, 'l2_leaf_reg': 0.21739885264011455, 'max_depth': 12, 'colsample_bytree': 0.6181785521365831, 'lambda': 0.013300034219784394, 'alpha': 6.333531520998706, 'num_leaves': 456, 'n_estimators': 710, 'subsample_for_bin': 193637, 'min_child_samples': 153, 'reg_alpha': 7.606968138585665e-08, 'reg_lambda': 4.3349495685962025e-05}. Best is trial 31 with value: 0.9664132319114629.\n",
      "[I 2024-10-15 17:56:13,465] Trial 33 finished with value: 0.9661970090365963 and parameters: {'learning_rate': 0.03326167275384848, 'depth': 10, 'subsample': 0.6310938547859939, 'colsample_bylevel': 0.9897579230664666, 'l2_leaf_reg': 8.807303814609769, 'max_depth': 10, 'colsample_bytree': 0.8144385465376481, 'lambda': 0.017302564033031168, 'alpha': 1.7996169659044359, 'num_leaves': 374, 'n_estimators': 446, 'subsample_for_bin': 275060, 'min_child_samples': 415, 'reg_alpha': 3.147742029542365, 'reg_lambda': 0.018079860859960578}. Best is trial 31 with value: 0.9664132319114629.\n",
      "[I 2024-10-15 18:02:48,459] Trial 34 finished with value: 0.964679291988106 and parameters: {'learning_rate': 0.08055428067442477, 'depth': 8, 'subsample': 0.9730913933416053, 'colsample_bylevel': 0.9464255558001633, 'l2_leaf_reg': 0.0015166126720973767, 'max_depth': 6, 'colsample_bytree': 0.7505853467512198, 'lambda': 1.7466799020707342, 'alpha': 8.894151386481907, 'num_leaves': 160, 'n_estimators': 835, 'subsample_for_bin': 126649, 'min_child_samples': 486, 'reg_alpha': 0.2637480341863335, 'reg_lambda': 0.24170578619686556}. Best is trial 31 with value: 0.9664132319114629.\n",
      "[I 2024-10-15 18:20:26,220] Trial 35 finished with value: 0.9663877610850011 and parameters: {'learning_rate': 0.047033158084096985, 'depth': 8, 'subsample': 0.8614715756725602, 'colsample_bylevel': 0.7073342432567075, 'l2_leaf_reg': 4.75558838776068, 'max_depth': 6, 'colsample_bytree': 0.9415849747767617, 'lambda': 0.00566220341235268, 'alpha': 1.958603806038346, 'num_leaves': 280, 'n_estimators': 1133, 'subsample_for_bin': 22132, 'min_child_samples': 284, 'reg_alpha': 8.6227917675994, 'reg_lambda': 9.266895536877314e-06}. Best is trial 31 with value: 0.9664132319114629.\n",
      "[I 2024-10-15 18:36:49,042] Trial 36 finished with value: 0.9664463423972922 and parameters: {'learning_rate': 0.05080865009881167, 'depth': 9, 'subsample': 0.8713932154715389, 'colsample_bylevel': 0.6240614292442286, 'l2_leaf_reg': 8.445609662067946, 'max_depth': 7, 'colsample_bytree': 0.9959834158542296, 'lambda': 0.01494441556283544, 'alpha': 0.9297492785114386, 'num_leaves': 268, 'n_estimators': 1088, 'subsample_for_bin': 76835, 'min_child_samples': 286, 'reg_alpha': 3.2822887391474995, 'reg_lambda': 2.635585901854588e-07}. Best is trial 36 with value: 0.9664463423972922.\n",
      "[I 2024-10-15 19:00:22,005] Trial 37 finished with value: 0.9661831096531989 and parameters: {'learning_rate': 0.04154549398143372, 'depth': 6, 'subsample': 0.9339809814249761, 'colsample_bylevel': 0.7139997523159328, 'l2_leaf_reg': 5.794889267757415, 'max_depth': 7, 'colsample_bytree': 0.9308819020796412, 'lambda': 0.002016854733201037, 'alpha': 9.203460205919459, 'num_leaves': 366, 'n_estimators': 1161, 'subsample_for_bin': 87508, 'min_child_samples': 383, 'reg_alpha': 9.345216696117856, 'reg_lambda': 0.0002630138257953802}. Best is trial 36 with value: 0.9664463423972922.\n",
      "[I 2024-10-15 19:24:55,847] Trial 38 finished with value: 0.9663719939862109 and parameters: {'learning_rate': 0.03211711415220398, 'depth': 9, 'subsample': 0.7063905344637806, 'colsample_bylevel': 0.887130422778412, 'l2_leaf_reg': 4.879715974871061, 'max_depth': 9, 'colsample_bytree': 0.8377465816696045, 'lambda': 0.05329516780135256, 'alpha': 8.381441084833245, 'num_leaves': 407, 'n_estimators': 326, 'subsample_for_bin': 228680, 'min_child_samples': 387, 'reg_alpha': 1.0057061778703043, 'reg_lambda': 0.00312194288390582}. Best is trial 36 with value: 0.9664463423972922.\n",
      "[I 2024-10-15 19:40:53,176] Trial 39 finished with value: 0.9661897478691566 and parameters: {'learning_rate': 0.04778832543196221, 'depth': 10, 'subsample': 0.9443692070938875, 'colsample_bylevel': 0.6125333176487818, 'l2_leaf_reg': 7.085619567603467, 'max_depth': 6, 'colsample_bytree': 0.9663550695994878, 'lambda': 0.055493123579840535, 'alpha': 0.642087268041917, 'num_leaves': 176, 'n_estimators': 1162, 'subsample_for_bin': 51333, 'min_child_samples': 374, 'reg_alpha': 1.9338940111224485, 'reg_lambda': 3.0159097717598924e-07}. Best is trial 36 with value: 0.9664463423972922.\n",
      "[I 2024-10-15 20:02:35,928] Trial 40 finished with value: 0.9661441637499294 and parameters: {'learning_rate': 0.052646193580645186, 'depth': 6, 'subsample': 0.6815207591451542, 'colsample_bylevel': 0.7382993881581599, 'l2_leaf_reg': 2.4840871157987277, 'max_depth': 10, 'colsample_bytree': 0.8857310311751262, 'lambda': 0.013333381732009, 'alpha': 2.4754793106387476, 'num_leaves': 465, 'n_estimators': 384, 'subsample_for_bin': 219787, 'min_child_samples': 301, 'reg_alpha': 1.40219767068259, 'reg_lambda': 0.01588970844810574}. Best is trial 36 with value: 0.9664463423972922.\n",
      "[I 2024-10-15 20:25:30,687] Trial 41 finished with value: 0.9663819376449692 and parameters: {'learning_rate': 0.033469854470380256, 'depth': 10, 'subsample': 0.6621625595720072, 'colsample_bylevel': 0.9117255844960744, 'l2_leaf_reg': 0.9852908872656968, 'max_depth': 10, 'colsample_bytree': 0.8635503784083554, 'lambda': 0.015672694368264625, 'alpha': 4.256972786134022, 'num_leaves': 454, 'n_estimators': 354, 'subsample_for_bin': 166676, 'min_child_samples': 450, 'reg_alpha': 0.04023277790941974, 'reg_lambda': 1.3372316393200792}. Best is trial 36 with value: 0.9664463423972922.\n",
      "[I 2024-10-15 20:49:18,339] Trial 42 finished with value: 0.966271908219771 and parameters: {'learning_rate': 0.0316206326048052, 'depth': 10, 'subsample': 0.7535386635189241, 'colsample_bylevel': 0.811196058074714, 'l2_leaf_reg': 2.8045998470374878, 'max_depth': 7, 'colsample_bytree': 0.8911316912008473, 'lambda': 0.0029134397655555294, 'alpha': 0.421674841544243, 'num_leaves': 310, 'n_estimators': 1116, 'subsample_for_bin': 74090, 'min_child_samples': 290, 'reg_alpha': 3.5210064267062404, 'reg_lambda': 2.526636987975101e-06}. Best is trial 36 with value: 0.9664463423972922.\n",
      "[I 2024-10-15 21:03:52,486] Trial 43 finished with value: 0.96568006867493 and parameters: {'learning_rate': 0.06843651134674966, 'depth': 10, 'subsample': 0.6528210970284837, 'colsample_bylevel': 0.9854831425750702, 'l2_leaf_reg': 1.0110814967643575, 'max_depth': 11, 'colsample_bytree': 0.8985758212202574, 'lambda': 0.003981990461272605, 'alpha': 0.9002152421550719, 'num_leaves': 425, 'n_estimators': 449, 'subsample_for_bin': 145693, 'min_child_samples': 442, 'reg_alpha': 0.0007410671634364502, 'reg_lambda': 4.190340845479747}. Best is trial 36 with value: 0.9664463423972922.\n",
      "[I 2024-10-15 21:16:29,704] Trial 44 finished with value: 0.9177412155795064 and parameters: {'learning_rate': 0.018152626644449166, 'depth': 12, 'subsample': 0.7332245735281472, 'colsample_bylevel': 0.807106333976859, 'l2_leaf_reg': 2.746460692113653, 'max_depth': 9, 'colsample_bytree': 0.8480962474330721, 'lambda': 0.015060419278547291, 'alpha': 6.344544123727582, 'num_leaves': 453, 'n_estimators': 318, 'subsample_for_bin': 165253, 'min_child_samples': 316, 'reg_alpha': 0.03408355927088168, 'reg_lambda': 3.715307939200578}. Best is trial 36 with value: 0.9664463423972922.\n",
      "[I 2024-10-15 21:34:02,526] Trial 45 finished with value: 0.9664177516842083 and parameters: {'learning_rate': 0.05825643630951893, 'depth': 8, 'subsample': 0.7560034254941849, 'colsample_bylevel': 0.8786142345485547, 'l2_leaf_reg': 2.723633332317295, 'max_depth': 8, 'colsample_bytree': 0.751117448935348, 'lambda': 0.23037805499427363, 'alpha': 5.367032204805078, 'num_leaves': 402, 'n_estimators': 319, 'subsample_for_bin': 223107, 'min_child_samples': 397, 'reg_alpha': 0.6505655953574297, 'reg_lambda': 1.192247970397031e-05}. Best is trial 36 with value: 0.9664463423972922.\n",
      "[I 2024-10-15 21:51:31,456] Trial 46 finished with value: 0.9663669752995402 and parameters: {'learning_rate': 0.04828591054626042, 'depth': 8, 'subsample': 0.7412497887604842, 'colsample_bylevel': 0.8459727230948932, 'l2_leaf_reg': 0.15842206348966037, 'max_depth': 8, 'colsample_bytree': 0.6722774989114021, 'lambda': 1.5106528859795794, 'alpha': 3.8881934523582546, 'num_leaves': 393, 'n_estimators': 336, 'subsample_for_bin': 177030, 'min_child_samples': 421, 'reg_alpha': 0.28858587160806154, 'reg_lambda': 1.930713132963113e-07}. Best is trial 36 with value: 0.9664463423972922.\n",
      "[I 2024-10-15 22:05:22,852] Trial 47 finished with value: 0.925460278575765 and parameters: {'learning_rate': 0.01744989863057797, 'depth': 7, 'subsample': 0.8687519823280032, 'colsample_bylevel': 0.6772636909864312, 'l2_leaf_reg': 0.2252139338003732, 'max_depth': 7, 'colsample_bytree': 0.9381481493637075, 'lambda': 0.015268195098846459, 'alpha': 3.5188048040285422, 'num_leaves': 281, 'n_estimators': 895, 'subsample_for_bin': 80242, 'min_child_samples': 132, 'reg_alpha': 4.980006172819191, 'reg_lambda': 0.00014965099952744148}. Best is trial 36 with value: 0.9664463423972922.\n",
      "[I 2024-10-15 22:36:16,470] Trial 48 finished with value: 0.9659444944010724 and parameters: {'learning_rate': 0.03519955528994505, 'depth': 6, 'subsample': 0.8908217900227278, 'colsample_bylevel': 0.8722806606162549, 'l2_leaf_reg': 4.0071694277065335, 'max_depth': 8, 'colsample_bytree': 0.7624964801485932, 'lambda': 0.3165523476368222, 'alpha': 8.736587872728542, 'num_leaves': 403, 'n_estimators': 308, 'subsample_for_bin': 265625, 'min_child_samples': 362, 'reg_alpha': 8.557158970122556, 'reg_lambda': 2.1904034486641713e-06}. Best is trial 36 with value: 0.9664463423972922.\n",
      "[I 2024-10-15 22:48:34,531] Trial 49 finished with value: 0.9662868027089436 and parameters: {'learning_rate': 0.07007722231841206, 'depth': 9, 'subsample': 0.8997186367448257, 'colsample_bylevel': 0.6408312659594704, 'l2_leaf_reg': 0.620988071790018, 'max_depth': 7, 'colsample_bytree': 0.9693589300925494, 'lambda': 0.1048989196283822, 'alpha': 7.882041001393369, 'num_leaves': 334, 'n_estimators': 720, 'subsample_for_bin': 78573, 'min_child_samples': 268, 'reg_alpha': 0.36699395315684863, 'reg_lambda': 1.4542326774721071e-08}. Best is trial 36 with value: 0.9664463423972922.\n"
     ]
    },
    {
     "name": "stdout",
     "output_type": "stream",
     "text": [
      "best optimized roc-auc: 0.96645\n",
      "best hyperparameters: {'learning_rate': 0.05080865009881167, 'depth': 9, 'subsample': 0.8713932154715389, 'colsample_bylevel': 0.6240614292442286, 'l2_leaf_reg': 8.445609662067946, 'max_depth': 7, 'colsample_bytree': 0.9959834158542296, 'lambda': 0.01494441556283544, 'alpha': 0.9297492785114386, 'num_leaves': 268, 'n_estimators': 1088, 'subsample_for_bin': 76835, 'min_child_samples': 286, 'reg_alpha': 3.2822887391474995, 'reg_lambda': 2.635585901854588e-07}\n",
      "Best_params {'learning_rate': 0.05080865009881167, 'depth': 9, 'subsample': 0.8713932154715389, 'colsample_bylevel': 0.6240614292442286, 'l2_leaf_reg': 8.445609662067946, 'max_depth': 7, 'colsample_bytree': 0.9959834158542296, 'lambda': 0.01494441556283544, 'alpha': 0.9297492785114386, 'num_leaves': 268, 'n_estimators': 1088, 'subsample_for_bin': 76835, 'min_child_samples': 286, 'reg_alpha': 3.2822887391474995, 'reg_lambda': 2.635585901854588e-07}\n"
     ]
    }
   ],
   "source": [
    "optimize = True\n",
    "model_name = \"CatBoost\"\n",
    "\n",
    "\n",
    "if optimize:\n",
    "    \n",
    "    X, y, X_test = get_data(impute=True, for_catboost=True,drop_cols=None,drop_outliers=True,concat=True)\n",
    "    \n",
    "    study = optuna.create_study(study_name=model_name, \n",
    "                                sampler=TPESampler(n_startup_trials=35, multivariate=True, seed=42),\n",
    "                                direction=\"maximize\", load_if_exists=True)\n",
    "    tuner = Tuner(model_name, X,y)\n",
    "    objective=getattr(tuner,f\"objective_{model_name}\")\n",
    "    study.optimize(objective, n_trials=50)\n",
    "    print(f\"best optimized roc-auc: {study.best_value:0.5f}\") # 0.96664\n",
    "    print(f\"best hyperparameters: {study.best_params}\") \n",
    "    best_params = study.best_params\n",
    "    print(f\"Best_params {best_params}\")\n",
    "    "
   ]
  },
  {
   "cell_type": "markdown",
   "id": "491c352a-0e7c-4dd9-879f-747b1ab734df",
   "metadata": {},
   "source": [
    "## Default Parameters For Classifiers"
   ]
  },
  {
   "cell_type": "code",
   "execution_count": null,
   "id": "553c8c32-faae-4466-994d-1c1f699180e3",
   "metadata": {},
   "outputs": [],
   "source": [
    "hgb_params = {\n",
    "'l2_regularization': 18.936024747438683,\n",
    "'learning_rate': 0.09659889512539407,\n",
    "'max_depth': 282,\n",
    "'max_iter': 782,\n",
    "'max_leaf_nodes': 17,\n",
    "'min_samples_leaf': 27,\n",
    "'random_state': 1859\n",
    "}\n",
    "\n",
    "gb_params = {\n",
    "    'learning_rate': 0.082157083069963,\n",
    "    'max_depth': 42,\n",
    "    'max_features': 0.830492388655695,\n",
    "    'max_leaf_nodes': 396,\n",
    "    'min_samples_leaf': 0.004149017494612162,\n",
    "    'min_samples_split': 0.3832043623592848,\n",
    "    'min_weight_fraction_leaf': 0.03369793416121497,\n",
    "    'n_estimators': 1910,\n",
    "    'random_state': 1859,\n",
    "    'subsample': 1\n",
    "}\n",
    "\n",
    "xgb_params = {\n",
    "    'colsample_bylevel': 0.891682515878179,\n",
    "    'colsample_bynode': 0.9692022033782264,\n",
    "    'colsample_bytree': 0.5741212531177258,\n",
    "    'enable_categorical': True,\n",
    "    'gamma': 3.3732530314473403,\n",
    "    'max_depth': 28,\n",
    "    'max_leaves': 5,\n",
    "    'min_child_weight': 11.394380268039894,\n",
    "    'n_estimators': 1494,\n",
    "    'n_jobs': -1,\n",
    "    'random_state': 1859,\n",
    "    'reg_alpha': 3.9898421425365447,\n",
    "    'reg_lambda': 5.872485568309149,\n",
    "    'scale_pos_weight': 6.3669510043139965,\n",
    "    'subsample': 0.9291585219816468,\n",
    "    'verbosity': 0\n",
    "}\n",
    "\n",
    "LightGBM = {\n",
    "    'boosting_type': 'gbdt',\n",
    "    'colsample_bytree': 0.4102117160463167,\n",
    "    'learning_rate': 0.018429467144621937,\n",
    "    'min_child_samples': 152,\n",
    "    'min_child_weight': 0.3352178855961433,\n",
    "    'n_estimators': 1830,\n",
    "    'n_jobs': -1,\n",
    "    'num_leaves': 24,\n",
    "    'random_state': 1859,\n",
    "    'reg_alpha': 4.467573158371641,\n",
    "    'reg_lambda': 7.274798299326913,\n",
    "    'scale_pos_weight': 9.782647775062838,\n",
    "    'subsample': 0.5849708880697966,\n",
    "    'verbose': -1\n",
    "}\n",
    "\n",
    "lgbm_dart_params = {\n",
    "    'boosting_type': 'dart',\n",
    "    'colsample_bytree': 0.4342375371792583,\n",
    "    'learning_rate': 0.09198605888855686,\n",
    "    'min_child_samples': 50,\n",
    "    'min_child_weight': 0.8796787910068157,\n",
    "    'n_estimators': 997,\n",
    "    'n_jobs': -1,\n",
    "    'num_leaves': 30,\n",
    "    'random_state': 1859,\n",
    "    'reg_alpha': 4.256638460413229,\n",
    "    'reg_lambda': 1.002971761999517,\n",
    "    'scale_pos_weight': 6.623252385677123,\n",
    "    'subsample': 0.7401348503074506,\n",
    "    'verbose': -1\n",
    "}\n",
    "\n",
    "CatBoost = {\n",
    "    'border_count': 32,\n",
    "    'colsample_bylevel': 0.923205561025516,\n",
    "    'depth': 6,\n",
    "    'iterations': 1183,\n",
    "    'l2_leaf_reg': 5.364502503541399,\n",
    "    'learning_rate': 0.0384421792065224,\n",
    "    'min_child_samples': 171,\n",
    "    'random_state': 1859,\n",
    "    'random_strength': 0.7074622236783702,\n",
    "    'scale_pos_weight': 3.429086606834293,\n",
    "    'subsample': 0.30083640912523346,\n",
    "    'verbose': False\n",
    "}\n",
    "CatBoost_optuna = {\n",
    "    'loss_function': 'Logloss',\n",
    "    'eval_metric': 'AUC',\n",
    "    'learning_rate': 0.08114394459649094,\n",
    "    'iterations': 1000,\n",
    "    'depth': 6,\n",
    "    'random_strength':0,\n",
    "    'l2_leaf_reg': 0.7047064221215757,\n",
    "    'task_type':'CPU',\n",
    "    'random_seed':42,\n",
    "    'verbose':False    \n",
    "}"
   ]
  },
  {
   "cell_type": "code",
   "execution_count": 206,
   "id": "bc5e8baf-1cc6-4899-9ee2-8d31530181e3",
   "metadata": {},
   "outputs": [],
   "source": [
    "import json\n",
    "# json_data = json.dumps(study.best_params)\n",
    "with open(f\"{model_name}_best_params.json\", \"w\") as json_file:\n",
    "    json.dump(study.best_params, json_file)"
   ]
  },
  {
   "cell_type": "markdown",
   "id": "8ab6814c-d1f6-4444-8820-0e55223c8c8d",
   "metadata": {},
   "source": [
    "Training base models\n",
    "To simplify the process of training, cross-validation, and inference, etc. I will create a class that handles all the necessary logic. This class will do cross-validation using StratifiedKFold, train the models, save their out-of-fold predictions, and create a submission file for the final ensemble model."
   ]
  },
  {
   "cell_type": "code",
   "execution_count": 207,
   "id": "771aa57f-198a-42a3-b16b-8248d318dca6",
   "metadata": {},
   "outputs": [],
   "source": [
    "class Trainer:\n",
    "    def __init__(self, model, is_ensemble_model=False,save_model=False):\n",
    "        self.model = model\n",
    "        self.is_ensemble_model = is_ensemble_model\n",
    "        self.save_model = save_model\n",
    "    def fit_predict(self, X, y, X_test, X_original=None, y_original=None):\n",
    "        print(f'Training {self.model.__class__.__name__}\\n')\n",
    "        \n",
    "        scores = []        \n",
    "        coeffs = np.zeros((1, X.shape[1]))\n",
    "        oof_pred_probs = np.zeros((X.shape[0], len(np.unique(y))))\n",
    "\n",
    "        test_pred_probs = np.zeros((X_test.shape[0], len(np.unique(y))))\n",
    "        \n",
    "        skf = StratifiedKFold(n_splits=5, random_state=42, shuffle=True)\n",
    "        for fold_idx, (train_idx, val_idx) in enumerate(skf.split(X, y)):\n",
    "            X_train, X_val = X.iloc[train_idx], X.iloc[val_idx]\n",
    "            y_train, y_val = y[train_idx], y[val_idx]\n",
    "            \n",
    "            if not self.is_ensemble_model:\n",
    "                X_train = pd.concat([X_train, X_original], ignore_index=True)\n",
    "                y_train = pd.concat([y_train, y_original], ignore_index=True)\n",
    "                \n",
    "            \n",
    "            model = clone(self.model)\n",
    "            model.fit(X_train, y_train)\n",
    "            \n",
    "            if self.is_ensemble_model:\n",
    "                coeffs += model.coef_ / 5\n",
    "                n_iters = model.n_iter_[0]\n",
    "            \n",
    "            y_pred_probs = model.predict_proba(X_val)\n",
    "            oof_pred_probs[val_idx] = y_pred_probs \n",
    "            \n",
    "            temp_test_pred_probs = model.predict_proba(X_test)\n",
    "            test_pred_probs += temp_test_pred_probs / 5\n",
    "            \n",
    "            score = roc_auc_score(y_val, y_pred_probs[:, 1])\n",
    "            scores.append(score)\n",
    "            print(f\"oof_pred_probs_shape: {oof_pred_probs.shape}, {oof_pred_probs}\")\n",
    "            print(f\"coeffs_shape: {coeffs.shape}, {coeffs}\")\n",
    "            print(f\"Test_pred_probs:{test_pred_probs.shape}\")\n",
    "            if self.save_model:\n",
    "                # Here you can replace pickle with joblib or cloudpickle\n",
    "                from pickle import dump\n",
    "                with open(f\"{model_name}_model.pkl\", \"wb\") as f:\n",
    "                    dump(model, f, protocol=5)\n",
    "                self.save_model=False\n",
    "                \n",
    "            del model, X_train, y_train, X_val, y_val, y_pred_probs\n",
    "            gc.collect()\n",
    "            \n",
    "            if self.is_ensemble_model:\n",
    "                print(f'--- Fold {fold_idx + 1} - AUC: {score:.6f} ({n_iters} iterations)')\n",
    "            else:\n",
    "                print(f'--- Fold {fold_idx + 1} - AUC: {score:.6f}')\n",
    "            \n",
    "        overall_score = roc_auc_score(y, oof_pred_probs[:, 1])\n",
    "            \n",
    "        print(f'\\n------ Overall: {overall_score:.6f} | Average: {np.mean(scores):.6f} ± {np.std(scores):.6f}')\n",
    "        \n",
    "        if self.is_ensemble_model:\n",
    "            self._save_submission(test_pred_probs, np.mean(scores))\n",
    "            return scores, coeffs\n",
    "        else:\n",
    "            os.makedirs('oof_pred_probs', exist_ok=True)\n",
    "            os.makedirs('test_pred_probs', exist_ok=True)\n",
    "            self._save_pred_probs(oof_pred_probs, np.mean(scores), 'oof')\n",
    "            self._save_pred_probs(test_pred_probs, np.mean(scores), 'test')\n",
    "            return oof_pred_probs[:, 1], test_pred_probs[:, 1], scores\n",
    "        \n",
    "    def _save_pred_probs(self, pred_probs, cv_score, name):\n",
    "        model_name = self.model.__class__.__name__.lower().replace('classifier', '')\n",
    "        with open(f'{name}_pred_probs/{model_name}_{name}_pred_probs_{cv_score:.6f}.pkl', 'wb') as f:\n",
    "            pickle.dump(pred_probs, f)\n",
    "    \n",
    "    def _save_submission(self, test_pred_probs, score):\n",
    "        name = self.model.__class__.__name__.lower().replace('classifier', '')\n",
    "        sub = pd.read_csv(\"sample_submission.csv\")\n",
    "\n",
    "        sub['loan_status'] = test_pred_probs[:, 1]\n",
    "        sub.to_csv(f'sub_{name}_{score:.6f}.csv', index=False)"
   ]
  },
  {
   "cell_type": "code",
   "execution_count": 208,
   "id": "bd881ddf-7ec5-49a2-9afb-8529a933da20",
   "metadata": {},
   "outputs": [],
   "source": [
    "scores = {}\n",
    "oof_pred_probs = {}\n",
    "test_pred_probs = {}"
   ]
  },
  {
   "cell_type": "code",
   "execution_count": 231,
   "id": "9adc04b2-a033-4994-b8fe-20beb9b14aad",
   "metadata": {},
   "outputs": [
    {
     "data": {
      "text/plain": [
       "{'learning_rate': 0.05080865009881167,\n",
       " 'depth': 9,\n",
       " 'subsample': 0.8713932154715389,\n",
       " 'colsample_bylevel': 0.6240614292442286,\n",
       " 'l2_leaf_reg': 8.445609662067946,\n",
       " 'num_leaves': 268,\n",
       " 'n_estimators': 1088,\n",
       " 'min_child_samples': 286}"
      ]
     },
     "execution_count": 231,
     "metadata": {},
     "output_type": "execute_result"
    }
   ],
   "source": [
    "with open(f\"{model_name}_best_params.json\", \"r\") as json_file:\n",
    "    CatBoost_param=json.load(json_file)\n",
    "del CatBoost_param['colsample_bytree']\n",
    "del CatBoost_param['lambda']\n",
    "del CatBoost_param['alpha']\n",
    "del CatBoost_param['subsample_for_bin']\n",
    "del CatBoost_param['reg_alpha']\n",
    "del CatBoost_param['depth']\n",
    "del CatBoost_param['reg_lambda']\n",
    "CatBoost_param\n",
    "    'border_count': 32,\n",
    "    'colsample_bylevel': 0.923205561025516,\n",
    "    'depth': 6,\n",
    "    'iterations': 1183,\n",
    "    'l2_leaf_reg': 5.364502503541399,\n",
    "    'learning_rate': 0.0384421792065224,\n",
    "    'min_child_samples': 171,\n",
    "    'random_state': 1859,\n",
    "    'random_strength': 0.7074622236783702,\n",
    "    'scale_pos_weight': 3.429086606834293,\n",
    "    'subsample': 0.30083640912523346,\n",
    "    'verbose': False"
   ]
  },
  {
   "cell_type": "code",
   "execution_count": 232,
   "id": "0510a442-4219-42f1-b0e6-a5f672578f69",
   "metadata": {},
   "outputs": [
    {
     "name": "stdout",
     "output_type": "stream",
     "text": [
      "Training CatBoostClassifier\n",
      "\n"
     ]
    },
    {
     "ename": "CatBoostError",
     "evalue": "catboost/private/libs/options/catboost_options.cpp:993: max_leaves option works only with lossguide tree growing",
     "output_type": "error",
     "traceback": [
      "\u001b[1;31m---------------------------------------------------------------------------\u001b[0m",
      "\u001b[1;31mCatBoostError\u001b[0m                             Traceback (most recent call last)",
      "Cell \u001b[1;32mIn[232], line 5\u001b[0m\n\u001b[0;32m      3\u001b[0m cb_model \u001b[38;5;241m=\u001b[39m CatBoostClassifier(\u001b[38;5;241m*\u001b[39m\u001b[38;5;241m*\u001b[39mCatBoost_param, cat_features\u001b[38;5;241m=\u001b[39mX\u001b[38;5;241m.\u001b[39mcolumns\u001b[38;5;241m.\u001b[39mtolist())\n\u001b[0;32m      4\u001b[0m cb_trainer \u001b[38;5;241m=\u001b[39m Trainer(cb_model)\n\u001b[1;32m----> 5\u001b[0m oof_pred_probs[\u001b[38;5;124m'\u001b[39m\u001b[38;5;124mCatBoost\u001b[39m\u001b[38;5;124m'\u001b[39m], test_pred_probs[\u001b[38;5;124m'\u001b[39m\u001b[38;5;124mCatBoost\u001b[39m\u001b[38;5;124m'\u001b[39m], scores[\u001b[38;5;124m'\u001b[39m\u001b[38;5;124mCatBoost\u001b[39m\u001b[38;5;124m'\u001b[39m] \u001b[38;5;241m=\u001b[39m \u001b[43mcb_trainer\u001b[49m\u001b[38;5;241;43m.\u001b[39;49m\u001b[43mfit_predict\u001b[49m\u001b[43m(\u001b[49m\u001b[43mX\u001b[49m\u001b[43m,\u001b[49m\u001b[43m \u001b[49m\u001b[43my\u001b[49m\u001b[43m,\u001b[49m\u001b[43m \u001b[49m\u001b[43mX_test\u001b[49m\u001b[43m,\u001b[49m\u001b[43m \u001b[49m\u001b[43mX_original\u001b[49m\u001b[43m,\u001b[49m\u001b[43m \u001b[49m\u001b[43my_original\u001b[49m\u001b[43m)\u001b[49m\n",
      "Cell \u001b[1;32mIn[207], line 26\u001b[0m, in \u001b[0;36mTrainer.fit_predict\u001b[1;34m(self, X, y, X_test, X_original, y_original)\u001b[0m\n\u001b[0;32m     22\u001b[0m     y_train \u001b[38;5;241m=\u001b[39m pd\u001b[38;5;241m.\u001b[39mconcat([y_train, y_original], ignore_index\u001b[38;5;241m=\u001b[39m\u001b[38;5;28;01mTrue\u001b[39;00m)\n\u001b[0;32m     25\u001b[0m model \u001b[38;5;241m=\u001b[39m clone(\u001b[38;5;28mself\u001b[39m\u001b[38;5;241m.\u001b[39mmodel)\n\u001b[1;32m---> 26\u001b[0m \u001b[43mmodel\u001b[49m\u001b[38;5;241;43m.\u001b[39;49m\u001b[43mfit\u001b[49m\u001b[43m(\u001b[49m\u001b[43mX_train\u001b[49m\u001b[43m,\u001b[49m\u001b[43m \u001b[49m\u001b[43my_train\u001b[49m\u001b[43m)\u001b[49m\n\u001b[0;32m     28\u001b[0m \u001b[38;5;28;01mif\u001b[39;00m \u001b[38;5;28mself\u001b[39m\u001b[38;5;241m.\u001b[39mis_ensemble_model:\n\u001b[0;32m     29\u001b[0m     coeffs \u001b[38;5;241m+\u001b[39m\u001b[38;5;241m=\u001b[39m model\u001b[38;5;241m.\u001b[39mcoef_ \u001b[38;5;241m/\u001b[39m \u001b[38;5;241m5\u001b[39m\n",
      "File \u001b[1;32m~\\python_envs\\gpu_mltrack\\lib\\site-packages\\catboost\\core.py:5245\u001b[0m, in \u001b[0;36mCatBoostClassifier.fit\u001b[1;34m(self, X, y, cat_features, text_features, embedding_features, graph, sample_weight, baseline, use_best_model, eval_set, verbose, logging_level, plot, plot_file, column_description, verbose_eval, metric_period, silent, early_stopping_rounds, save_snapshot, snapshot_file, snapshot_interval, init_model, callbacks, log_cout, log_cerr)\u001b[0m\n\u001b[0;32m   5242\u001b[0m \u001b[38;5;28;01mif\u001b[39;00m \u001b[38;5;124m'\u001b[39m\u001b[38;5;124mloss_function\u001b[39m\u001b[38;5;124m'\u001b[39m \u001b[38;5;129;01min\u001b[39;00m params:\n\u001b[0;32m   5243\u001b[0m     CatBoostClassifier\u001b[38;5;241m.\u001b[39m_check_is_compatible_loss(params[\u001b[38;5;124m'\u001b[39m\u001b[38;5;124mloss_function\u001b[39m\u001b[38;5;124m'\u001b[39m])\n\u001b[1;32m-> 5245\u001b[0m \u001b[38;5;28;43mself\u001b[39;49m\u001b[38;5;241;43m.\u001b[39;49m\u001b[43m_fit\u001b[49m\u001b[43m(\u001b[49m\u001b[43mX\u001b[49m\u001b[43m,\u001b[49m\u001b[43m \u001b[49m\u001b[43my\u001b[49m\u001b[43m,\u001b[49m\u001b[43m \u001b[49m\u001b[43mcat_features\u001b[49m\u001b[43m,\u001b[49m\u001b[43m \u001b[49m\u001b[43mtext_features\u001b[49m\u001b[43m,\u001b[49m\u001b[43m \u001b[49m\u001b[43membedding_features\u001b[49m\u001b[43m,\u001b[49m\u001b[43m \u001b[49m\u001b[38;5;28;43;01mNone\u001b[39;49;00m\u001b[43m,\u001b[49m\u001b[43m \u001b[49m\u001b[43mgraph\u001b[49m\u001b[43m,\u001b[49m\u001b[43m \u001b[49m\u001b[43msample_weight\u001b[49m\u001b[43m,\u001b[49m\u001b[43m \u001b[49m\u001b[38;5;28;43;01mNone\u001b[39;49;00m\u001b[43m,\u001b[49m\u001b[43m \u001b[49m\u001b[38;5;28;43;01mNone\u001b[39;49;00m\u001b[43m,\u001b[49m\u001b[43m \u001b[49m\u001b[38;5;28;43;01mNone\u001b[39;49;00m\u001b[43m,\u001b[49m\u001b[43m \u001b[49m\u001b[38;5;28;43;01mNone\u001b[39;49;00m\u001b[43m,\u001b[49m\u001b[43m \u001b[49m\u001b[43mbaseline\u001b[49m\u001b[43m,\u001b[49m\u001b[43m \u001b[49m\u001b[43muse_best_model\u001b[49m\u001b[43m,\u001b[49m\n\u001b[0;32m   5246\u001b[0m \u001b[43m          \u001b[49m\u001b[43meval_set\u001b[49m\u001b[43m,\u001b[49m\u001b[43m \u001b[49m\u001b[43mverbose\u001b[49m\u001b[43m,\u001b[49m\u001b[43m \u001b[49m\u001b[43mlogging_level\u001b[49m\u001b[43m,\u001b[49m\u001b[43m \u001b[49m\u001b[43mplot\u001b[49m\u001b[43m,\u001b[49m\u001b[43m \u001b[49m\u001b[43mplot_file\u001b[49m\u001b[43m,\u001b[49m\u001b[43m \u001b[49m\u001b[43mcolumn_description\u001b[49m\u001b[43m,\u001b[49m\u001b[43m \u001b[49m\u001b[43mverbose_eval\u001b[49m\u001b[43m,\u001b[49m\u001b[43m \u001b[49m\u001b[43mmetric_period\u001b[49m\u001b[43m,\u001b[49m\n\u001b[0;32m   5247\u001b[0m \u001b[43m          \u001b[49m\u001b[43msilent\u001b[49m\u001b[43m,\u001b[49m\u001b[43m \u001b[49m\u001b[43mearly_stopping_rounds\u001b[49m\u001b[43m,\u001b[49m\u001b[43m \u001b[49m\u001b[43msave_snapshot\u001b[49m\u001b[43m,\u001b[49m\u001b[43m \u001b[49m\u001b[43msnapshot_file\u001b[49m\u001b[43m,\u001b[49m\u001b[43m \u001b[49m\u001b[43msnapshot_interval\u001b[49m\u001b[43m,\u001b[49m\u001b[43m \u001b[49m\u001b[43minit_model\u001b[49m\u001b[43m,\u001b[49m\u001b[43m \u001b[49m\u001b[43mcallbacks\u001b[49m\u001b[43m,\u001b[49m\u001b[43m \u001b[49m\u001b[43mlog_cout\u001b[49m\u001b[43m,\u001b[49m\u001b[43m \u001b[49m\u001b[43mlog_cerr\u001b[49m\u001b[43m)\u001b[49m\n\u001b[0;32m   5248\u001b[0m \u001b[38;5;28;01mreturn\u001b[39;00m \u001b[38;5;28mself\u001b[39m\n",
      "File \u001b[1;32m~\\python_envs\\gpu_mltrack\\lib\\site-packages\\catboost\\core.py:2395\u001b[0m, in \u001b[0;36mCatBoost._fit\u001b[1;34m(self, X, y, cat_features, text_features, embedding_features, pairs, graph, sample_weight, group_id, group_weight, subgroup_id, pairs_weight, baseline, use_best_model, eval_set, verbose, logging_level, plot, plot_file, column_description, verbose_eval, metric_period, silent, early_stopping_rounds, save_snapshot, snapshot_file, snapshot_interval, init_model, callbacks, log_cout, log_cerr)\u001b[0m\n\u001b[0;32m   2392\u001b[0m \u001b[38;5;28;01mif\u001b[39;00m y \u001b[38;5;129;01mis\u001b[39;00m \u001b[38;5;28;01mNone\u001b[39;00m \u001b[38;5;129;01mand\u001b[39;00m \u001b[38;5;129;01mnot\u001b[39;00m \u001b[38;5;28misinstance\u001b[39m(X, PATH_TYPES \u001b[38;5;241m+\u001b[39m (Pool,)):\n\u001b[0;32m   2393\u001b[0m     \u001b[38;5;28;01mraise\u001b[39;00m CatBoostError(\u001b[38;5;124m\"\u001b[39m\u001b[38;5;124my may be None only when X is an instance of catboost.Pool or string\u001b[39m\u001b[38;5;124m\"\u001b[39m)\n\u001b[1;32m-> 2395\u001b[0m train_params \u001b[38;5;241m=\u001b[39m \u001b[38;5;28;43mself\u001b[39;49m\u001b[38;5;241;43m.\u001b[39;49m\u001b[43m_prepare_train_params\u001b[49m\u001b[43m(\u001b[49m\n\u001b[0;32m   2396\u001b[0m \u001b[43m    \u001b[49m\u001b[43mX\u001b[49m\u001b[38;5;241;43m=\u001b[39;49m\u001b[43mX\u001b[49m\u001b[43m,\u001b[49m\u001b[43m \u001b[49m\u001b[43my\u001b[49m\u001b[38;5;241;43m=\u001b[39;49m\u001b[43my\u001b[49m\u001b[43m,\u001b[49m\u001b[43m \u001b[49m\u001b[43mcat_features\u001b[49m\u001b[38;5;241;43m=\u001b[39;49m\u001b[43mcat_features\u001b[49m\u001b[43m,\u001b[49m\u001b[43m \u001b[49m\u001b[43mtext_features\u001b[49m\u001b[38;5;241;43m=\u001b[39;49m\u001b[43mtext_features\u001b[49m\u001b[43m,\u001b[49m\u001b[43m \u001b[49m\u001b[43membedding_features\u001b[49m\u001b[38;5;241;43m=\u001b[39;49m\u001b[43membedding_features\u001b[49m\u001b[43m,\u001b[49m\n\u001b[0;32m   2397\u001b[0m \u001b[43m    \u001b[49m\u001b[43mpairs\u001b[49m\u001b[38;5;241;43m=\u001b[39;49m\u001b[43mpairs\u001b[49m\u001b[43m,\u001b[49m\u001b[43m \u001b[49m\u001b[43mgraph\u001b[49m\u001b[38;5;241;43m=\u001b[39;49m\u001b[43mgraph\u001b[49m\u001b[43m,\u001b[49m\u001b[43m \u001b[49m\u001b[43msample_weight\u001b[49m\u001b[38;5;241;43m=\u001b[39;49m\u001b[43msample_weight\u001b[49m\u001b[43m,\u001b[49m\u001b[43m \u001b[49m\u001b[43mgroup_id\u001b[49m\u001b[38;5;241;43m=\u001b[39;49m\u001b[43mgroup_id\u001b[49m\u001b[43m,\u001b[49m\u001b[43m \u001b[49m\u001b[43mgroup_weight\u001b[49m\u001b[38;5;241;43m=\u001b[39;49m\u001b[43mgroup_weight\u001b[49m\u001b[43m,\u001b[49m\n\u001b[0;32m   2398\u001b[0m \u001b[43m    \u001b[49m\u001b[43msubgroup_id\u001b[49m\u001b[38;5;241;43m=\u001b[39;49m\u001b[43msubgroup_id\u001b[49m\u001b[43m,\u001b[49m\u001b[43m \u001b[49m\u001b[43mpairs_weight\u001b[49m\u001b[38;5;241;43m=\u001b[39;49m\u001b[43mpairs_weight\u001b[49m\u001b[43m,\u001b[49m\u001b[43m \u001b[49m\u001b[43mbaseline\u001b[49m\u001b[38;5;241;43m=\u001b[39;49m\u001b[43mbaseline\u001b[49m\u001b[43m,\u001b[49m\u001b[43m \u001b[49m\u001b[43muse_best_model\u001b[49m\u001b[38;5;241;43m=\u001b[39;49m\u001b[43muse_best_model\u001b[49m\u001b[43m,\u001b[49m\n\u001b[0;32m   2399\u001b[0m \u001b[43m    \u001b[49m\u001b[43meval_set\u001b[49m\u001b[38;5;241;43m=\u001b[39;49m\u001b[43meval_set\u001b[49m\u001b[43m,\u001b[49m\u001b[43m \u001b[49m\u001b[43mverbose\u001b[49m\u001b[38;5;241;43m=\u001b[39;49m\u001b[43mverbose\u001b[49m\u001b[43m,\u001b[49m\u001b[43m \u001b[49m\u001b[43mlogging_level\u001b[49m\u001b[38;5;241;43m=\u001b[39;49m\u001b[43mlogging_level\u001b[49m\u001b[43m,\u001b[49m\u001b[43m \u001b[49m\u001b[43mplot\u001b[49m\u001b[38;5;241;43m=\u001b[39;49m\u001b[43mplot\u001b[49m\u001b[43m,\u001b[49m\u001b[43m \u001b[49m\u001b[43mplot_file\u001b[49m\u001b[38;5;241;43m=\u001b[39;49m\u001b[43mplot_file\u001b[49m\u001b[43m,\u001b[49m\n\u001b[0;32m   2400\u001b[0m \u001b[43m    \u001b[49m\u001b[43mcolumn_description\u001b[49m\u001b[38;5;241;43m=\u001b[39;49m\u001b[43mcolumn_description\u001b[49m\u001b[43m,\u001b[49m\u001b[43m \u001b[49m\u001b[43mverbose_eval\u001b[49m\u001b[38;5;241;43m=\u001b[39;49m\u001b[43mverbose_eval\u001b[49m\u001b[43m,\u001b[49m\u001b[43m \u001b[49m\u001b[43mmetric_period\u001b[49m\u001b[38;5;241;43m=\u001b[39;49m\u001b[43mmetric_period\u001b[49m\u001b[43m,\u001b[49m\n\u001b[0;32m   2401\u001b[0m \u001b[43m    \u001b[49m\u001b[43msilent\u001b[49m\u001b[38;5;241;43m=\u001b[39;49m\u001b[43msilent\u001b[49m\u001b[43m,\u001b[49m\u001b[43m \u001b[49m\u001b[43mearly_stopping_rounds\u001b[49m\u001b[38;5;241;43m=\u001b[39;49m\u001b[43mearly_stopping_rounds\u001b[49m\u001b[43m,\u001b[49m\u001b[43m \u001b[49m\u001b[43msave_snapshot\u001b[49m\u001b[38;5;241;43m=\u001b[39;49m\u001b[43msave_snapshot\u001b[49m\u001b[43m,\u001b[49m\n\u001b[0;32m   2402\u001b[0m \u001b[43m    \u001b[49m\u001b[43msnapshot_file\u001b[49m\u001b[38;5;241;43m=\u001b[39;49m\u001b[43msnapshot_file\u001b[49m\u001b[43m,\u001b[49m\u001b[43m \u001b[49m\u001b[43msnapshot_interval\u001b[49m\u001b[38;5;241;43m=\u001b[39;49m\u001b[43msnapshot_interval\u001b[49m\u001b[43m,\u001b[49m\u001b[43m \u001b[49m\u001b[43minit_model\u001b[49m\u001b[38;5;241;43m=\u001b[39;49m\u001b[43minit_model\u001b[49m\u001b[43m,\u001b[49m\n\u001b[0;32m   2403\u001b[0m \u001b[43m    \u001b[49m\u001b[43mcallbacks\u001b[49m\u001b[38;5;241;43m=\u001b[39;49m\u001b[43mcallbacks\u001b[49m\n\u001b[0;32m   2404\u001b[0m \u001b[43m\u001b[49m\u001b[43m)\u001b[49m\n\u001b[0;32m   2405\u001b[0m params \u001b[38;5;241m=\u001b[39m train_params[\u001b[38;5;124m\"\u001b[39m\u001b[38;5;124mparams\u001b[39m\u001b[38;5;124m\"\u001b[39m]\n\u001b[0;32m   2406\u001b[0m train_pool \u001b[38;5;241m=\u001b[39m train_params[\u001b[38;5;124m\"\u001b[39m\u001b[38;5;124mtrain_pool\u001b[39m\u001b[38;5;124m\"\u001b[39m]\n",
      "File \u001b[1;32m~\\python_envs\\gpu_mltrack\\lib\\site-packages\\catboost\\core.py:2321\u001b[0m, in \u001b[0;36mCatBoost._prepare_train_params\u001b[1;34m(self, X, y, cat_features, text_features, embedding_features, pairs, graph, sample_weight, group_id, group_weight, subgroup_id, pairs_weight, baseline, use_best_model, eval_set, verbose, logging_level, plot, plot_file, column_description, verbose_eval, metric_period, silent, early_stopping_rounds, save_snapshot, snapshot_file, snapshot_interval, init_model, callbacks)\u001b[0m\n\u001b[0;32m   2319\u001b[0m _check_param_types(params)\n\u001b[0;32m   2320\u001b[0m params \u001b[38;5;241m=\u001b[39m _params_type_cast(params)\n\u001b[1;32m-> 2321\u001b[0m \u001b[43m_check_train_params\u001b[49m\u001b[43m(\u001b[49m\u001b[43mparams\u001b[49m\u001b[43m)\u001b[49m\n\u001b[0;32m   2323\u001b[0m \u001b[38;5;28;01mif\u001b[39;00m params\u001b[38;5;241m.\u001b[39mget(\u001b[38;5;124m'\u001b[39m\u001b[38;5;124meval_fraction\u001b[39m\u001b[38;5;124m'\u001b[39m, \u001b[38;5;241m0.0\u001b[39m) \u001b[38;5;241m!=\u001b[39m \u001b[38;5;241m0.0\u001b[39m:\n\u001b[0;32m   2324\u001b[0m     \u001b[38;5;28;01mif\u001b[39;00m eval_set \u001b[38;5;129;01mis\u001b[39;00m \u001b[38;5;129;01mnot\u001b[39;00m \u001b[38;5;28;01mNone\u001b[39;00m:\n",
      "File \u001b[1;32m_catboost.pyx:6583\u001b[0m, in \u001b[0;36m_catboost._check_train_params\u001b[1;34m()\u001b[0m\n",
      "File \u001b[1;32m_catboost.pyx:6605\u001b[0m, in \u001b[0;36m_catboost._check_train_params\u001b[1;34m()\u001b[0m\n",
      "\u001b[1;31mCatBoostError\u001b[0m: catboost/private/libs/options/catboost_options.cpp:993: max_leaves option works only with lossguide tree growing"
     ]
    }
   ],
   "source": [
    "X, y, X_test, X_original, y_original = get_data(encode=False, impute=True, for_catboost=True,drop_outliers=True)\n",
    "\n",
    "cb_model = CatBoostClassifier(**CatBoost_param, cat_features=X.columns.tolist())\n",
    "cb_trainer = Trainer(cb_model)\n",
    "oof_pred_probs['CatBoost'], test_pred_probs['CatBoost'], scores['CatBoost'] = cb_trainer.fit_predict(X, y, X_test, X_original, y_original)"
   ]
  },
  {
   "cell_type": "code",
   "execution_count": null,
   "id": "f1f391a7-7900-41b4-89ce-2e235657f6da",
   "metadata": {},
   "outputs": [],
   "source": [
    "import shap\n",
    "\n",
    "shap.initjs()"
   ]
  },
  {
   "cell_type": "code",
   "execution_count": null,
   "id": "efff35b5-ad75-4aa8-a532-4d3bf40912d6",
   "metadata": {},
   "outputs": [],
   "source": [
    "explainer = shap.TreeExplainer(study.best_trial)\n",
    "shap_values = explainer(X, y)"
   ]
  },
  {
   "cell_type": "code",
   "execution_count": null,
   "id": "d5de5e3b-6afb-4d57-9891-f2cb56eb59ac",
   "metadata": {},
   "outputs": [],
   "source": [
    "shap.summary_plot(\n",
    "    shap_values, \n",
    "    X, \n",
    "    plot_type=\"bar\", \n",
    "    class_names=np.unique(y),\n",
    "    color='purple',\n",
    "    show=False\n",
    ")\n",
    "plt.xticks(fontsize=14)  \n",
    "plt.yticks(fontsize=14)  \n",
    "plt.xlabel('Mean Absolute SHAP Value', fontsize=16) \n",
    "plt.title('Feature Importance by SHAP Values', fontsize=18) \n",
    "plt.grid(visible=True, which='both', linestyle='--', linewidth=0.5) \n",
    "plt.show()"
   ]
  },
  {
   "cell_type": "code",
   "execution_count": 23,
   "id": "0799fe29-5827-4c0b-9b72-a4350043d97d",
   "metadata": {},
   "outputs": [
    {
     "name": "stdout",
     "output_type": "stream",
     "text": [
      "Training HistGradientBoostingClassifier\n",
      "\n"
     ]
    },
    {
     "name": "stderr",
     "output_type": "stream",
     "text": [
      "\n",
      "KeyboardInterrupt\n",
      "\n"
     ]
    }
   ],
   "source": [
    "X, y, X_test, X_original, y_original = get_data(encode=True, impute=True)\n",
    "hgb_model = HistGradientBoostingClassifier(**hgb_params)\n",
    "hgb_trainer = Trainer(hgb_model)\n",
    "oof_pred_probs['HistGB'], test_pred_probs['HistGB'], scores['HistGB'] = hgb_trainer.fit_predict(X, y, X_test, X_original, y_original)"
   ]
  },
  {
   "cell_type": "code",
   "execution_count": 24,
   "id": "8b68cb08-890d-43bd-82a4-c7a38fefb26c",
   "metadata": {},
   "outputs": [
    {
     "name": "stdout",
     "output_type": "stream",
     "text": [
      "Training GradientBoostingClassifier\n",
      "\n"
     ]
    },
    {
     "name": "stderr",
     "output_type": "stream",
     "text": [
      "\n",
      "KeyboardInterrupt\n",
      "\n"
     ]
    }
   ],
   "source": [
    "X, y, X_test, X_original, y_original = get_data(encode=True, impute=True)\n",
    "gb_model = GradientBoostingClassifier(**gb_params)\n",
    "gb_trainer = Trainer(gb_model)\n",
    "oof_pred_probs['GradientBoosting'], test_pred_probs['GradientBoosting'], scores['GradientBoosting'] = gb_trainer.fit_predict(X, y, X_test, X_original, y_original)"
   ]
  },
  {
   "cell_type": "code",
   "execution_count": 28,
   "id": "69fc0a27-2b2d-4d24-809e-565a32423e91",
   "metadata": {},
   "outputs": [
    {
     "name": "stdout",
     "output_type": "stream",
     "text": [
      "Training XGBClassifier\n",
      "\n",
      "oof_pred_probs: [[0. 0.]\n",
      " [0. 0.]\n",
      " [0. 0.]\n",
      " ...\n",
      " [0. 0.]\n",
      " [0. 0.]\n",
      " [0. 0.]]\n",
      "coeffs: [[0. 0. 0. 0. 0. 0. 0. 0. 0. 0. 0.]]\n",
      "--- Fold 1 - AUC: 0.955267\n",
      "--- Fold 2 - AUC: 0.965590\n",
      "--- Fold 3 - AUC: 0.958201\n",
      "--- Fold 4 - AUC: 0.959388\n",
      "--- Fold 5 - AUC: 0.961655\n",
      "\n",
      "------ Overall: 0.959982 | Average: 0.960020 ± 0.003464\n"
     ]
    }
   ],
   "source": [
    "X, y, X_test, X_original, y_original = get_data(encode=False, impute=False)\n",
    "xgb_model = XGBClassifier(**xgb_params)\n",
    "xgb_trainer = Trainer(xgb_model)\n",
    "oof_pred_probs['XGBoost'], test_pred_probs['XGBoost'], scores['XGBoost'] = xgb_trainer.fit_predict(X, y, X_test, X_original, y_original)"
   ]
  },
  {
   "cell_type": "code",
   "execution_count": 58,
   "id": "8dfe0c5a-e473-44f7-9c4f-cebd4e393926",
   "metadata": {},
   "outputs": [
    {
     "name": "stdout",
     "output_type": "stream",
     "text": [
      "Training LGBMClassifier\n",
      "\n",
      "oof_pred_probs_shape: (58645, 2), [[0.         0.        ]\n",
      " [0.97763262 0.02236738]\n",
      " [0.         0.        ]\n",
      " ...\n",
      " [0.         0.        ]\n",
      " [0.6726524  0.3273476 ]\n",
      " [0.         0.        ]]\n",
      "coeffs_shape: (1, 11), [[0. 0. 0. 0. 0. 0. 0. 0. 0. 0. 0.]]\n",
      "Test_pred_probs:(39098, 2)\n",
      "--- Fold 1 - AUC: 0.958460\n",
      "oof_pred_probs_shape: (58645, 2), [[0.84651372 0.15348628]\n",
      " [0.97763262 0.02236738]\n",
      " [0.95896989 0.04103011]\n",
      " ...\n",
      " [0.         0.        ]\n",
      " [0.6726524  0.3273476 ]\n",
      " [0.99146727 0.00853273]]\n",
      "coeffs_shape: (1, 11), [[0. 0. 0. 0. 0. 0. 0. 0. 0. 0. 0.]]\n",
      "Test_pred_probs:(39098, 2)\n",
      "--- Fold 2 - AUC: 0.967216\n",
      "oof_pred_probs_shape: (58645, 2), [[0.84651372 0.15348628]\n",
      " [0.97763262 0.02236738]\n",
      " [0.95896989 0.04103011]\n",
      " ...\n",
      " [0.         0.        ]\n",
      " [0.6726524  0.3273476 ]\n",
      " [0.99146727 0.00853273]]\n",
      "coeffs_shape: (1, 11), [[0. 0. 0. 0. 0. 0. 0. 0. 0. 0. 0.]]\n",
      "Test_pred_probs:(39098, 2)\n",
      "--- Fold 3 - AUC: 0.961409\n",
      "oof_pred_probs_shape: (58645, 2), [[0.84651372 0.15348628]\n",
      " [0.97763262 0.02236738]\n",
      " [0.95896989 0.04103011]\n",
      " ...\n",
      " [0.         0.        ]\n",
      " [0.6726524  0.3273476 ]\n",
      " [0.99146727 0.00853273]]\n",
      "coeffs_shape: (1, 11), [[0. 0. 0. 0. 0. 0. 0. 0. 0. 0. 0.]]\n",
      "Test_pred_probs:(39098, 2)\n",
      "--- Fold 4 - AUC: 0.963035\n",
      "oof_pred_probs_shape: (58645, 2), [[0.84651372 0.15348628]\n",
      " [0.97763262 0.02236738]\n",
      " [0.95896989 0.04103011]\n",
      " ...\n",
      " [0.07590294 0.92409706]\n",
      " [0.6726524  0.3273476 ]\n",
      " [0.99146727 0.00853273]]\n",
      "coeffs_shape: (1, 11), [[0. 0. 0. 0. 0. 0. 0. 0. 0. 0. 0.]]\n",
      "Test_pred_probs:(39098, 2)\n",
      "--- Fold 5 - AUC: 0.962199\n",
      "\n",
      "------ Overall: 0.962457 | Average: 0.962464 ± 0.002833\n"
     ]
    }
   ],
   "source": [
    "X, y, X_test, X_original, y_original = get_data(encode=False, impute=False)\n",
    "lgbm_model = LGBMClassifier(**lgbm_params)\n",
    "lgbm_trainer = Trainer(lgbm_model)\n",
    "oof_pred_probs['LightGBM'], test_pred_probs['LightGBM'], scores['LightGBM'] = lgbm_trainer.fit_predict(X, y, X_test, X_original, y_original)"
   ]
  },
  {
   "cell_type": "code",
   "execution_count": 30,
   "id": "0a19d3b8-37eb-4ec9-9634-9dbf375dddd5",
   "metadata": {},
   "outputs": [
    {
     "name": "stdout",
     "output_type": "stream",
     "text": [
      "Training LGBMClassifier\n",
      "\n",
      "oof_pred_probs: [[0. 0.]\n",
      " [0. 0.]\n",
      " [0. 0.]\n",
      " ...\n",
      " [0. 0.]\n",
      " [0. 0.]\n",
      " [0. 0.]]\n",
      "coeffs: [[0. 0. 0. 0. 0. 0. 0. 0. 0. 0. 0.]]\n",
      "--- Fold 1 - AUC: 0.958003\n",
      "--- Fold 2 - AUC: 0.967265\n",
      "--- Fold 3 - AUC: 0.960253\n",
      "--- Fold 4 - AUC: 0.962265\n",
      "--- Fold 5 - AUC: 0.962069\n",
      "\n",
      "------ Overall: 0.961951 | Average: 0.961971 ± 0.003060\n"
     ]
    }
   ],
   "source": [
    "X, y, X_test, X_original, y_original = get_data(encode=False, impute=False)\n",
    "lgbm_dart_model = LGBMClassifier(**lgbm_dart_params)\n",
    "lgbm_dart_trainer = Trainer(lgbm_dart_model)\n",
    "oof_pred_probs['LightGBM (dart)'], test_pred_probs['LightGBM (dart)'], scores['LightGBM (dart)'] = lgbm_dart_trainer.fit_predict(X, y, X_test, X_original, y_original)"
   ]
  },
  {
   "cell_type": "code",
   "execution_count": 119,
   "id": "f2af98e1-84de-4170-b703-c8c922efd3e1",
   "metadata": {},
   "outputs": [],
   "source": [
    "def get_autogluon_data():\n",
    "    base_path = r'C:\\Users\\takyol\\Desktop\\projects\\kaggle\\loan_approval_prediction'\n",
    "    test_pred_probs = pickle.load(open(r\"C:\\Users\\takyol\\Desktop\\projects\\kaggle\\loan_approval_prediction\\WeightedEnsemble_L3_PSEUDO_test_pred_probs_0.964507.pkl\", 'rb'))\n",
    "    oof_pred_probs = pickle.load(open(r\"C:\\Users\\takyol\\Desktop\\projects\\kaggle\\loan_approval_prediction\\WeightedEnsemble_L3_PSEUDO_oof_pred_probs_0.964507.pkl\", 'rb'))\n",
    "    \n",
    "    scores = []\n",
    "    skf = StratifiedKFold(n_splits=5, random_state=42, shuffle=True)\n",
    "    for _, val_idx in skf.split(X, y):\n",
    "        y_val = y[val_idx]\n",
    "        y_pred_probs = oof_pred_probs[val_idx]          \n",
    "        score = roc_auc_score(y_val, y_pred_probs)\n",
    "        scores.append(score)\n",
    "        \n",
    "    return oof_pred_probs, test_pred_probs, scores"
   ]
  },
  {
   "cell_type": "code",
   "execution_count": 120,
   "id": "212aaaef-0e36-42c7-ab39-e22cff14e681",
   "metadata": {},
   "outputs": [],
   "source": [
    "oof_pred_probs['AutoGluon'], test_pred_probs['AutoGluon'], scores['AutoGluon'] = get_autogluon_data()"
   ]
  },
  {
   "cell_type": "markdown",
   "id": "c98d92db-3c2c-4b1b-bd64-d35de4271343",
   "metadata": {},
   "source": [
    "## Ensembling with Logistic Regression¶\n"
   ]
  },
  {
   "cell_type": "markdown",
   "id": "839c6432-591b-4aec-b9f1-3c32980de1b3",
   "metadata": {},
   "source": [
    "I will use LogisticRegression to ensemble the predictions of the base models. The predictions are converted to logits and fed into the logistic regression model as features."
   ]
  },
  {
   "cell_type": "code",
   "execution_count": 122,
   "id": "63aa96d8-57d3-4e99-9016-a29e6e62344a",
   "metadata": {},
   "outputs": [
    {
     "ename": "ValueError",
     "evalue": "All arrays must be of the same length",
     "output_type": "error",
     "traceback": [
      "\u001b[1;31m---------------------------------------------------------------------------\u001b[0m",
      "\u001b[1;31mValueError\u001b[0m                                Traceback (most recent call last)",
      "Cell \u001b[1;32mIn[122], line 1\u001b[0m\n\u001b[1;32m----> 1\u001b[0m X \u001b[38;5;241m=\u001b[39m logit(\u001b[43mpd\u001b[49m\u001b[38;5;241;43m.\u001b[39;49m\u001b[43mDataFrame\u001b[49m\u001b[43m(\u001b[49m\u001b[43moof_pred_probs\u001b[49m\u001b[43m)\u001b[49m)\n\u001b[0;32m      2\u001b[0m X_test \u001b[38;5;241m=\u001b[39m logit(pd\u001b[38;5;241m.\u001b[39mDataFrame(test_pred_probs))\n\u001b[0;32m      4\u001b[0m lr_model \u001b[38;5;241m=\u001b[39m LogisticRegression(random_state\u001b[38;5;241m=\u001b[39m\u001b[38;5;241m42\u001b[39m, max_iter\u001b[38;5;241m=\u001b[39m\u001b[38;5;241m500\u001b[39m, C\u001b[38;5;241m=\u001b[39m\u001b[38;5;241m0.00683086154151203\u001b[39m)\n",
      "File \u001b[1;32m~\\python_envs\\gpu_mltrack\\lib\\site-packages\\pandas\\core\\frame.py:709\u001b[0m, in \u001b[0;36mDataFrame.__init__\u001b[1;34m(self, data, index, columns, dtype, copy)\u001b[0m\n\u001b[0;32m    703\u001b[0m     mgr \u001b[38;5;241m=\u001b[39m \u001b[38;5;28mself\u001b[39m\u001b[38;5;241m.\u001b[39m_init_mgr(\n\u001b[0;32m    704\u001b[0m         data, axes\u001b[38;5;241m=\u001b[39m{\u001b[38;5;124m\"\u001b[39m\u001b[38;5;124mindex\u001b[39m\u001b[38;5;124m\"\u001b[39m: index, \u001b[38;5;124m\"\u001b[39m\u001b[38;5;124mcolumns\u001b[39m\u001b[38;5;124m\"\u001b[39m: columns}, dtype\u001b[38;5;241m=\u001b[39mdtype, copy\u001b[38;5;241m=\u001b[39mcopy\n\u001b[0;32m    705\u001b[0m     )\n\u001b[0;32m    707\u001b[0m \u001b[38;5;28;01melif\u001b[39;00m \u001b[38;5;28misinstance\u001b[39m(data, \u001b[38;5;28mdict\u001b[39m):\n\u001b[0;32m    708\u001b[0m     \u001b[38;5;66;03m# GH#38939 de facto copy defaults to False only in non-dict cases\u001b[39;00m\n\u001b[1;32m--> 709\u001b[0m     mgr \u001b[38;5;241m=\u001b[39m \u001b[43mdict_to_mgr\u001b[49m\u001b[43m(\u001b[49m\u001b[43mdata\u001b[49m\u001b[43m,\u001b[49m\u001b[43m \u001b[49m\u001b[43mindex\u001b[49m\u001b[43m,\u001b[49m\u001b[43m \u001b[49m\u001b[43mcolumns\u001b[49m\u001b[43m,\u001b[49m\u001b[43m \u001b[49m\u001b[43mdtype\u001b[49m\u001b[38;5;241;43m=\u001b[39;49m\u001b[43mdtype\u001b[49m\u001b[43m,\u001b[49m\u001b[43m \u001b[49m\u001b[43mcopy\u001b[49m\u001b[38;5;241;43m=\u001b[39;49m\u001b[43mcopy\u001b[49m\u001b[43m,\u001b[49m\u001b[43m \u001b[49m\u001b[43mtyp\u001b[49m\u001b[38;5;241;43m=\u001b[39;49m\u001b[43mmanager\u001b[49m\u001b[43m)\u001b[49m\n\u001b[0;32m    710\u001b[0m \u001b[38;5;28;01melif\u001b[39;00m \u001b[38;5;28misinstance\u001b[39m(data, ma\u001b[38;5;241m.\u001b[39mMaskedArray):\n\u001b[0;32m    711\u001b[0m     \u001b[38;5;28;01mfrom\u001b[39;00m \u001b[38;5;21;01mnumpy\u001b[39;00m\u001b[38;5;21;01m.\u001b[39;00m\u001b[38;5;21;01mma\u001b[39;00m \u001b[38;5;28;01mimport\u001b[39;00m mrecords\n",
      "File \u001b[1;32m~\\python_envs\\gpu_mltrack\\lib\\site-packages\\pandas\\core\\internals\\construction.py:481\u001b[0m, in \u001b[0;36mdict_to_mgr\u001b[1;34m(data, index, columns, dtype, typ, copy)\u001b[0m\n\u001b[0;32m    477\u001b[0m     \u001b[38;5;28;01melse\u001b[39;00m:\n\u001b[0;32m    478\u001b[0m         \u001b[38;5;66;03m# dtype check to exclude e.g. range objects, scalars\u001b[39;00m\n\u001b[0;32m    479\u001b[0m         arrays \u001b[38;5;241m=\u001b[39m [x\u001b[38;5;241m.\u001b[39mcopy() \u001b[38;5;28;01mif\u001b[39;00m \u001b[38;5;28mhasattr\u001b[39m(x, \u001b[38;5;124m\"\u001b[39m\u001b[38;5;124mdtype\u001b[39m\u001b[38;5;124m\"\u001b[39m) \u001b[38;5;28;01melse\u001b[39;00m x \u001b[38;5;28;01mfor\u001b[39;00m x \u001b[38;5;129;01min\u001b[39;00m arrays]\n\u001b[1;32m--> 481\u001b[0m \u001b[38;5;28;01mreturn\u001b[39;00m \u001b[43marrays_to_mgr\u001b[49m\u001b[43m(\u001b[49m\u001b[43marrays\u001b[49m\u001b[43m,\u001b[49m\u001b[43m \u001b[49m\u001b[43mcolumns\u001b[49m\u001b[43m,\u001b[49m\u001b[43m \u001b[49m\u001b[43mindex\u001b[49m\u001b[43m,\u001b[49m\u001b[43m \u001b[49m\u001b[43mdtype\u001b[49m\u001b[38;5;241;43m=\u001b[39;49m\u001b[43mdtype\u001b[49m\u001b[43m,\u001b[49m\u001b[43m \u001b[49m\u001b[43mtyp\u001b[49m\u001b[38;5;241;43m=\u001b[39;49m\u001b[43mtyp\u001b[49m\u001b[43m,\u001b[49m\u001b[43m \u001b[49m\u001b[43mconsolidate\u001b[49m\u001b[38;5;241;43m=\u001b[39;49m\u001b[43mcopy\u001b[49m\u001b[43m)\u001b[49m\n",
      "File \u001b[1;32m~\\python_envs\\gpu_mltrack\\lib\\site-packages\\pandas\\core\\internals\\construction.py:115\u001b[0m, in \u001b[0;36marrays_to_mgr\u001b[1;34m(arrays, columns, index, dtype, verify_integrity, typ, consolidate)\u001b[0m\n\u001b[0;32m    112\u001b[0m \u001b[38;5;28;01mif\u001b[39;00m verify_integrity:\n\u001b[0;32m    113\u001b[0m     \u001b[38;5;66;03m# figure out the index, if necessary\u001b[39;00m\n\u001b[0;32m    114\u001b[0m     \u001b[38;5;28;01mif\u001b[39;00m index \u001b[38;5;129;01mis\u001b[39;00m \u001b[38;5;28;01mNone\u001b[39;00m:\n\u001b[1;32m--> 115\u001b[0m         index \u001b[38;5;241m=\u001b[39m \u001b[43m_extract_index\u001b[49m\u001b[43m(\u001b[49m\u001b[43marrays\u001b[49m\u001b[43m)\u001b[49m\n\u001b[0;32m    116\u001b[0m     \u001b[38;5;28;01melse\u001b[39;00m:\n\u001b[0;32m    117\u001b[0m         index \u001b[38;5;241m=\u001b[39m ensure_index(index)\n",
      "File \u001b[1;32m~\\python_envs\\gpu_mltrack\\lib\\site-packages\\pandas\\core\\internals\\construction.py:655\u001b[0m, in \u001b[0;36m_extract_index\u001b[1;34m(data)\u001b[0m\n\u001b[0;32m    653\u001b[0m lengths \u001b[38;5;241m=\u001b[39m \u001b[38;5;28mlist\u001b[39m(\u001b[38;5;28mset\u001b[39m(raw_lengths))\n\u001b[0;32m    654\u001b[0m \u001b[38;5;28;01mif\u001b[39;00m \u001b[38;5;28mlen\u001b[39m(lengths) \u001b[38;5;241m>\u001b[39m \u001b[38;5;241m1\u001b[39m:\n\u001b[1;32m--> 655\u001b[0m     \u001b[38;5;28;01mraise\u001b[39;00m \u001b[38;5;167;01mValueError\u001b[39;00m(\u001b[38;5;124m\"\u001b[39m\u001b[38;5;124mAll arrays must be of the same length\u001b[39m\u001b[38;5;124m\"\u001b[39m)\n\u001b[0;32m    657\u001b[0m \u001b[38;5;28;01mif\u001b[39;00m have_dicts:\n\u001b[0;32m    658\u001b[0m     \u001b[38;5;28;01mraise\u001b[39;00m \u001b[38;5;167;01mValueError\u001b[39;00m(\n\u001b[0;32m    659\u001b[0m         \u001b[38;5;124m\"\u001b[39m\u001b[38;5;124mMixing dicts with non-Series may lead to ambiguous ordering.\u001b[39m\u001b[38;5;124m\"\u001b[39m\n\u001b[0;32m    660\u001b[0m     )\n",
      "\u001b[1;31mValueError\u001b[0m: All arrays must be of the same length"
     ]
    }
   ],
   "source": [
    "X = logit(pd.DataFrame(oof_pred_probs))\n",
    "X_test = logit(pd.DataFrame(test_pred_probs))\n",
    "\n",
    "lr_model = LogisticRegression(random_state=42, max_iter=500, C=0.00683086154151203)\n",
    "lr_trainer = Trainer(lr_model, is_ensemble_model=True)\n",
    "scores['Ensemble (LR)'], coeffs = lr_trainer.fit_predict(X, y, X_test)"
   ]
  },
  {
   "cell_type": "code",
   "execution_count": 74,
   "id": "84048240-74b6-47e0-8bb2-46c916fd55cb",
   "metadata": {},
   "outputs": [
    {
     "data": {
      "image/png": "[encoded data removed]",
      "text/plain": [
       "<Figure size 800x120 with 1 Axes>"
      ]
     },
     "metadata": {},
     "output_type": "display_data"
    }
   ],
   "source": [
    "sorted_indices = np.argsort(coeffs[0])[::-1]\n",
    "sorted_coeffs = np.array(coeffs[0])[sorted_indices]\n",
    "sorted_model_names = np.array(list(oof_pred_probs.keys()))[sorted_indices]\n",
    "\n",
    "plt.figure(figsize=(8, coeffs.shape[1] * 0.6))\n",
    "ax = sns.barplot(x=sorted_coeffs, y=sorted_model_names, palette=\"RdYlGn_r\")\n",
    "\n",
    "for i, (value, name) in enumerate(zip(sorted_coeffs, sorted_model_names)):\n",
    "    if value > 0:\n",
    "        ax.text(value, i, f'{value:.3f}', va='center', ha='left', color='black')\n",
    "    else:\n",
    "        ax.text(value, i, f'{value:.3f}', va='center', ha='right', color='black')\n",
    "\n",
    "xlim = ax.get_xlim()\n",
    "ax.set_xlim(xlim[0] - 0.1 * abs(xlim[0]), xlim[1] + 0.1 * abs(xlim[1]))\n",
    "        \n",
    "plt.title('Logistic Regression Coefficients')\n",
    "plt.xlabel('')\n",
    "plt.ylabel('')\n",
    "plt.tight_layout()\n",
    "plt.show()"
   ]
  },
  {
   "cell_type": "code",
   "execution_count": 53,
   "id": "fa50d2cd-abbd-4c36-b3e5-17eec5b65e9b",
   "metadata": {},
   "outputs": [],
   "source": [
    "train = pd.read_csv(\"train.csv\", index_col='id')\n",
    "test = pd.read_csv(\"test.csv\", index_col='id')"
   ]
  },
  {
   "cell_type": "code",
   "execution_count": 75,
   "id": "383f3ec1-4b3d-4130-a25a-201a74f8527f",
   "metadata": {},
   "outputs": [
    {
     "name": "stdout",
     "output_type": "stream",
     "text": [
      "\u001b[1m\u001b[34m   /\\  \n",
      "  /__\\  hillclimbers\u001b[0m\u001b[1m \n",
      " /    \\\n",
      "/______\\ \n",
      "\u001b[0m\n",
      "\u001b[1m\u001b[33mModels to be ensembled | (2 total):\u001b[0m \n",
      "\n",
      "\u001b[1m\u001b[32mCatBoost:  0.96840 (best solo model)\u001b[0m\n",
      "\u001b[1mAutoGluon: 0.96451\u001b[0m\n",
      "\n",
      "\u001b[1m\u001b[33m[Data preparation completed successfully] - [Initiate hill climbing]\u001b[0m \n",
      "\n",
      "\u001b[1m\u001b[32mIteration: 1 | Model added: AutoGluon | Best weight: 0.454 | Best roc_auc_score: 0.96929\u001b[0m\n"
     ]
    },
    {
     "data": {
      "application/vnd.plotly.v1+json": {
       "config": {
        "plotlyServerURL": "https://plot.ly"
       },
       "data": [
        {
         "hovertemplate": "Number of Models: %{x}<br>CV: %{y}",
         "legendgroup": "",
         "line": {
          "color": "#009933",
          "dash": "solid"
         },
         "marker": {
          "color": "#33cc33",
          "line": {
           "color": "#FFFFFF",
           "width": 1.5
          },
          "size": 10,
          "symbol": "circle"
         },
         "mode": "lines+markers+text",
         "name": "",
         "orientation": "v",
         "showlegend": false,
         "text": [
          0.9684,
          0.96929
         ],
         "textfont": {
          "size": 10
         },
         "textposition": "top center",
         "type": "scatter",
         "x": [
          1,
          2
         ],
         "xaxis": "x",
         "y": [
          0.9684025328406711,
          0.9692948085338419
         ],
         "yaxis": "y"
        }
       ],
       "layout": {
        "autosize": false,
        "height": 500,
        "legend": {
         "tracegroupgap": 0
        },
        "template": {
         "data": {
          "bar": [
           {
            "error_x": {
             "color": "#f2f5fa"
            },
            "error_y": {
             "color": "#f2f5fa"
            },
            "marker": {
             "line": {
              "color": "rgb(17,17,17)",
              "width": 0.5
             },
             "pattern": {
              "fillmode": "overlay",
              "size": 10,
              "solidity": 0.2
             }
            },
            "type": "bar"
           }
          ],
          "barpolar": [
           {
            "marker": {
             "line": {
              "color": "rgb(17,17,17)",
              "width": 0.5
             },
             "pattern": {
              "fillmode": "overlay",
              "size": 10,
              "solidity": 0.2
             }
            },
            "type": "barpolar"
           }
          ],
          "carpet": [
           {
            "aaxis": {
             "endlinecolor": "#A2B1C6",
             "gridcolor": "#506784",
             "linecolor": "#506784",
             "minorgridcolor": "#506784",
             "startlinecolor": "#A2B1C6"
            },
            "baxis": {
             "endlinecolor": "#A2B1C6",
             "gridcolor": "#506784",
             "linecolor": "#506784",
             "minorgridcolor": "#506784",
             "startlinecolor": "#A2B1C6"
            },
            "type": "carpet"
           }
          ],
          "choropleth": [
           {
            "colorbar": {
             "outlinewidth": 0,
             "ticks": ""
            },
            "type": "choropleth"
           }
          ],
          "contour": [
           {
            "colorbar": {
             "outlinewidth": 0,
             "ticks": ""
            },
            "colorscale": [
             [
              0,
              "#0d0887"
             ],
             [
              0.1111111111111111,
              "#46039f"
             ],
             [
              0.2222222222222222,
              "#7201a8"
             ],
             [
              0.3333333333333333,
              "#9c179e"
             ],
             [
              0.4444444444444444,
              "#bd3786"
             ],
             [
              0.5555555555555556,
              "#d8576b"
             ],
             [
              0.6666666666666666,
              "#ed7953"
             ],
             [
              0.7777777777777778,
              "#fb9f3a"
             ],
             [
              0.8888888888888888,
              "#fdca26"
             ],
             [
              1,
              "#f0f921"
             ]
            ],
            "type": "contour"
           }
          ],
          "contourcarpet": [
           {
            "colorbar": {
             "outlinewidth": 0,
             "ticks": ""
            },
            "type": "contourcarpet"
           }
          ],
          "heatmap": [
           {
            "colorbar": {
             "outlinewidth": 0,
             "ticks": ""
            },
            "colorscale": [
             [
              0,
              "#0d0887"
             ],
             [
              0.1111111111111111,
              "#46039f"
             ],
             [
              0.2222222222222222,
              "#7201a8"
             ],
             [
              0.3333333333333333,
              "#9c179e"
             ],
             [
              0.4444444444444444,
              "#bd3786"
             ],
             [
              0.5555555555555556,
              "#d8576b"
             ],
             [
              0.6666666666666666,
              "#ed7953"
             ],
             [
              0.7777777777777778,
              "#fb9f3a"
             ],
             [
              0.8888888888888888,
              "#fdca26"
             ],
             [
              1,
              "#f0f921"
             ]
            ],
            "type": "heatmap"
           }
          ],
          "heatmapgl": [
           {
            "colorbar": {
             "outlinewidth": 0,
             "ticks": ""
            },
            "colorscale": [
             [
              0,
              "#0d0887"
             ],
             [
              0.1111111111111111,
              "#46039f"
             ],
             [
              0.2222222222222222,
              "#7201a8"
             ],
             [
              0.3333333333333333,
              "#9c179e"
             ],
             [
              0.4444444444444444,
              "#bd3786"
             ],
             [
              0.5555555555555556,
              "#d8576b"
             ],
             [
              0.6666666666666666,
              "#ed7953"
             ],
             [
              0.7777777777777778,
              "#fb9f3a"
             ],
             [
              0.8888888888888888,
              "#fdca26"
             ],
             [
              1,
              "#f0f921"
             ]
            ],
            "type": "heatmapgl"
           }
          ],
          "histogram": [
           {
            "marker": {
             "pattern": {
              "fillmode": "overlay",
              "size": 10,
              "solidity": 0.2
             }
            },
            "type": "histogram"
           }
          ],
          "histogram2d": [
           {
            "colorbar": {
             "outlinewidth": 0,
             "ticks": ""
            },
            "colorscale": [
             [
              0,
              "#0d0887"
             ],
             [
              0.1111111111111111,
              "#46039f"
             ],
             [
              0.2222222222222222,
              "#7201a8"
             ],
             [
              0.3333333333333333,
              "#9c179e"
             ],
             [
              0.4444444444444444,
              "#bd3786"
             ],
             [
              0.5555555555555556,
              "#d8576b"
             ],
             [
              0.6666666666666666,
              "#ed7953"
             ],
             [
              0.7777777777777778,
              "#fb9f3a"
             ],
             [
              0.8888888888888888,
              "#fdca26"
             ],
             [
              1,
              "#f0f921"
             ]
            ],
            "type": "histogram2d"
           }
          ],
          "histogram2dcontour": [
           {
            "colorbar": {
             "outlinewidth": 0,
             "ticks": ""
            },
            "colorscale": [
             [
              0,
              "#0d0887"
             ],
             [
              0.1111111111111111,
              "#46039f"
             ],
             [
              0.2222222222222222,
              "#7201a8"
             ],
             [
              0.3333333333333333,
              "#9c179e"
             ],
             [
              0.4444444444444444,
              "#bd3786"
             ],
             [
              0.5555555555555556,
              "#d8576b"
             ],
             [
              0.6666666666666666,
              "#ed7953"
             ],
             [
              0.7777777777777778,
              "#fb9f3a"
             ],
             [
              0.8888888888888888,
              "#fdca26"
             ],
             [
              1,
              "#f0f921"
             ]
            ],
            "type": "histogram2dcontour"
           }
          ],
          "mesh3d": [
           {
            "colorbar": {
             "outlinewidth": 0,
             "ticks": ""
            },
            "type": "mesh3d"
           }
          ],
          "parcoords": [
           {
            "line": {
             "colorbar": {
              "outlinewidth": 0,
              "ticks": ""
             }
            },
            "type": "parcoords"
           }
          ],
          "pie": [
           {
            "automargin": true,
            "type": "pie"
           }
          ],
          "scatter": [
           {
            "marker": {
             "line": {
              "color": "#283442"
             }
            },
            "type": "scatter"
           }
          ],
          "scatter3d": [
           {
            "line": {
             "colorbar": {
              "outlinewidth": 0,
              "ticks": ""
             }
            },
            "marker": {
             "colorbar": {
              "outlinewidth": 0,
              "ticks": ""
             }
            },
            "type": "scatter3d"
           }
          ],
          "scattercarpet": [
           {
            "marker": {
             "colorbar": {
              "outlinewidth": 0,
              "ticks": ""
             }
            },
            "type": "scattercarpet"
           }
          ],
          "scattergeo": [
           {
            "marker": {
             "colorbar": {
              "outlinewidth": 0,
              "ticks": ""
             }
            },
            "type": "scattergeo"
           }
          ],
          "scattergl": [
           {
            "marker": {
             "line": {
              "color": "#283442"
             }
            },
            "type": "scattergl"
           }
          ],
          "scattermapbox": [
           {
            "marker": {
             "colorbar": {
              "outlinewidth": 0,
              "ticks": ""
             }
            },
            "type": "scattermapbox"
           }
          ],
          "scatterpolar": [
           {
            "marker": {
             "colorbar": {
              "outlinewidth": 0,
              "ticks": ""
             }
            },
            "type": "scatterpolar"
           }
          ],
          "scatterpolargl": [
           {
            "marker": {
             "colorbar": {
              "outlinewidth": 0,
              "ticks": ""
             }
            },
            "type": "scatterpolargl"
           }
          ],
          "scatterternary": [
           {
            "marker": {
             "colorbar": {
              "outlinewidth": 0,
              "ticks": ""
             }
            },
            "type": "scatterternary"
           }
          ],
          "surface": [
           {
            "colorbar": {
             "outlinewidth": 0,
             "ticks": ""
            },
            "colorscale": [
             [
              0,
              "#0d0887"
             ],
             [
              0.1111111111111111,
              "#46039f"
             ],
             [
              0.2222222222222222,
              "#7201a8"
             ],
             [
              0.3333333333333333,
              "#9c179e"
             ],
             [
              0.4444444444444444,
              "#bd3786"
             ],
             [
              0.5555555555555556,
              "#d8576b"
             ],
             [
              0.6666666666666666,
              "#ed7953"
             ],
             [
              0.7777777777777778,
              "#fb9f3a"
             ],
             [
              0.8888888888888888,
              "#fdca26"
             ],
             [
              1,
              "#f0f921"
             ]
            ],
            "type": "surface"
           }
          ],
          "table": [
           {
            "cells": {
             "fill": {
              "color": "#506784"
             },
             "line": {
              "color": "rgb(17,17,17)"
             }
            },
            "header": {
             "fill": {
              "color": "#2a3f5f"
             },
             "line": {
              "color": "rgb(17,17,17)"
             }
            },
            "type": "table"
           }
          ]
         },
         "layout": {
          "annotationdefaults": {
           "arrowcolor": "#f2f5fa",
           "arrowhead": 0,
           "arrowwidth": 1
          },
          "autotypenumbers": "strict",
          "coloraxis": {
           "colorbar": {
            "outlinewidth": 0,
            "ticks": ""
           }
          },
          "colorscale": {
           "diverging": [
            [
             0,
             "#8e0152"
            ],
            [
             0.1,
             "#c51b7d"
            ],
            [
             0.2,
             "#de77ae"
            ],
            [
             0.3,
             "#f1b6da"
            ],
            [
             0.4,
             "#fde0ef"
            ],
            [
             0.5,
             "#f7f7f7"
            ],
            [
             0.6,
             "#e6f5d0"
            ],
            [
             0.7,
             "#b8e186"
            ],
            [
             0.8,
             "#7fbc41"
            ],
            [
             0.9,
             "#4d9221"
            ],
            [
             1,
             "#276419"
            ]
           ],
           "sequential": [
            [
             0,
             "#0d0887"
            ],
            [
             0.1111111111111111,
             "#46039f"
            ],
            [
             0.2222222222222222,
             "#7201a8"
            ],
            [
             0.3333333333333333,
             "#9c179e"
            ],
            [
             0.4444444444444444,
             "#bd3786"
            ],
            [
             0.5555555555555556,
             "#d8576b"
            ],
            [
             0.6666666666666666,
             "#ed7953"
            ],
            [
             0.7777777777777778,
             "#fb9f3a"
            ],
            [
             0.8888888888888888,
             "#fdca26"
            ],
            [
             1,
             "#f0f921"
            ]
           ],
           "sequentialminus": [
            [
             0,
             "#0d0887"
            ],
            [
             0.1111111111111111,
             "#46039f"
            ],
            [
             0.2222222222222222,
             "#7201a8"
            ],
            [
             0.3333333333333333,
             "#9c179e"
            ],
            [
             0.4444444444444444,
             "#bd3786"
            ],
            [
             0.5555555555555556,
             "#d8576b"
            ],
            [
             0.6666666666666666,
             "#ed7953"
            ],
            [
             0.7777777777777778,
             "#fb9f3a"
            ],
            [
             0.8888888888888888,
             "#fdca26"
            ],
            [
             1,
             "#f0f921"
            ]
           ]
          },
          "colorway": [
           "#636efa",
           "#EF553B",
           "#00cc96",
           "#ab63fa",
           "#FFA15A",
           "#19d3f3",
           "#FF6692",
           "#B6E880",
           "#FF97FF",
           "#FECB52"
          ],
          "font": {
           "color": "#f2f5fa"
          },
          "geo": {
           "bgcolor": "rgb(17,17,17)",
           "lakecolor": "rgb(17,17,17)",
           "landcolor": "rgb(17,17,17)",
           "showlakes": true,
           "showland": true,
           "subunitcolor": "#506784"
          },
          "hoverlabel": {
           "align": "left"
          },
          "hovermode": "closest",
          "mapbox": {
           "style": "dark"
          },
          "paper_bgcolor": "rgb(17,17,17)",
          "plot_bgcolor": "rgb(17,17,17)",
          "polar": {
           "angularaxis": {
            "gridcolor": "#506784",
            "linecolor": "#506784",
            "ticks": ""
           },
           "bgcolor": "rgb(17,17,17)",
           "radialaxis": {
            "gridcolor": "#506784",
            "linecolor": "#506784",
            "ticks": ""
           }
          },
          "scene": {
           "xaxis": {
            "backgroundcolor": "rgb(17,17,17)",
            "gridcolor": "#506784",
            "gridwidth": 2,
            "linecolor": "#506784",
            "showbackground": true,
            "ticks": "",
            "zerolinecolor": "#C8D4E3"
           },
           "yaxis": {
            "backgroundcolor": "rgb(17,17,17)",
            "gridcolor": "#506784",
            "gridwidth": 2,
            "linecolor": "#506784",
            "showbackground": true,
            "ticks": "",
            "zerolinecolor": "#C8D4E3"
           },
           "zaxis": {
            "backgroundcolor": "rgb(17,17,17)",
            "gridcolor": "#506784",
            "gridwidth": 2,
            "linecolor": "#506784",
            "showbackground": true,
            "ticks": "",
            "zerolinecolor": "#C8D4E3"
           }
          },
          "shapedefaults": {
           "line": {
            "color": "#f2f5fa"
           }
          },
          "sliderdefaults": {
           "bgcolor": "#C8D4E3",
           "bordercolor": "rgb(17,17,17)",
           "borderwidth": 1,
           "tickwidth": 0
          },
          "ternary": {
           "aaxis": {
            "gridcolor": "#506784",
            "linecolor": "#506784",
            "ticks": ""
           },
           "baxis": {
            "gridcolor": "#506784",
            "linecolor": "#506784",
            "ticks": ""
           },
           "bgcolor": "rgb(17,17,17)",
           "caxis": {
            "gridcolor": "#506784",
            "linecolor": "#506784",
            "ticks": ""
           }
          },
          "title": {
           "x": 0.05
          },
          "updatemenudefaults": {
           "bgcolor": "#506784",
           "borderwidth": 0
          },
          "xaxis": {
           "automargin": true,
           "gridcolor": "#283442",
           "linecolor": "#506784",
           "ticks": "",
           "title": {
            "standoff": 15
           },
           "zerolinecolor": "#283442",
           "zerolinewidth": 2
          },
          "yaxis": {
           "automargin": true,
           "gridcolor": "#283442",
           "linecolor": "#506784",
           "ticks": "",
           "title": {
            "standoff": 15
           },
           "zerolinecolor": "#283442",
           "zerolinewidth": 2
          }
         }
        },
        "title": {
         "text": "Cross Validation roc_auc_score vs. Number of Models with Hill Climbing"
        },
        "width": 900,
        "xaxis": {
         "anchor": "y",
         "autorange": true,
         "domain": [
          0,
          1
         ],
         "range": [
          0.9338179035960215,
          2.0661820964039785
         ],
         "tickmode": "array",
         "tickvals": [
          1,
          2
         ],
         "title": {
          "text": "Number of models"
         },
         "type": "linear"
        },
        "yaxis": {
         "anchor": "x",
         "autorange": true,
         "domain": [
          0,
          1
         ],
         "range": [
          0.9683304706476655,
          0.9693668707268475
         ],
         "title": {
          "text": "roc_auc_score"
         },
         "type": "linear"
        }
       }
      },
      "image/png": "[encoded data removed]",
      "text/html": [
       "<div>                            <div id=\"753c5e77-6a14-4049-a226-1b120e3855f7\" class=\"plotly-graph-div\" style=\"height:500px; width:900px;\"></div>            <script type=\"text/javascript\">                require([\"plotly\"], function(Plotly) {                    window.PLOTLYENV=window.PLOTLYENV || {};                                    if (document.getElementById(\"753c5e77-6a14-4049-a226-1b120e3855f7\")) {                    Plotly.newPlot(                        \"753c5e77-6a14-4049-a226-1b120e3855f7\",                        [{\"hovertemplate\":\"Number of Models: %{x}\\u003cbr\\u003eCV: %{y}\",\"legendgroup\":\"\",\"line\":{\"color\":\"#009933\",\"dash\":\"solid\"},\"marker\":{\"symbol\":\"circle\",\"line\":{\"color\":\"#FFFFFF\",\"width\":1.5},\"color\":\"#33cc33\",\"size\":10},\"mode\":\"lines+markers+text\",\"name\":\"\",\"orientation\":\"v\",\"showlegend\":false,\"text\":[0.9684,0.96929],\"x\":[1,2],\"xaxis\":\"x\",\"y\":[0.9684025328406711,0.9692948085338419],\"yaxis\":\"y\",\"type\":\"scatter\",\"textfont\":{\"size\":10},\"textposition\":\"top center\"}],                        {\"template\":{\"data\":{\"barpolar\":[{\"marker\":{\"line\":{\"color\":\"rgb(17,17,17)\",\"width\":0.5},\"pattern\":{\"fillmode\":\"overlay\",\"size\":10,\"solidity\":0.2}},\"type\":\"barpolar\"}],\"bar\":[{\"error_x\":{\"color\":\"#f2f5fa\"},\"error_y\":{\"color\":\"#f2f5fa\"},\"marker\":{\"line\":{\"color\":\"rgb(17,17,17)\",\"width\":0.5},\"pattern\":{\"fillmode\":\"overlay\",\"size\":10,\"solidity\":0.2}},\"type\":\"bar\"}],\"carpet\":[{\"aaxis\":{\"endlinecolor\":\"#A2B1C6\",\"gridcolor\":\"#506784\",\"linecolor\":\"#506784\",\"minorgridcolor\":\"#506784\",\"startlinecolor\":\"#A2B1C6\"},\"baxis\":{\"endlinecolor\":\"#A2B1C6\",\"gridcolor\":\"#506784\",\"linecolor\":\"#506784\",\"minorgridcolor\":\"#506784\",\"startlinecolor\":\"#A2B1C6\"},\"type\":\"carpet\"}],\"choropleth\":[{\"colorbar\":{\"outlinewidth\":0,\"ticks\":\"\"},\"type\":\"choropleth\"}],\"contourcarpet\":[{\"colorbar\":{\"outlinewidth\":0,\"ticks\":\"\"},\"type\":\"contourcarpet\"}],\"contour\":[{\"colorbar\":{\"outlinewidth\":0,\"ticks\":\"\"},\"colorscale\":[[0.0,\"#0d0887\"],[0.1111111111111111,\"#46039f\"],[0.2222222222222222,\"#7201a8\"],[0.3333333333333333,\"#9c179e\"],[0.4444444444444444,\"#bd3786\"],[0.5555555555555556,\"#d8576b\"],[0.6666666666666666,\"#ed7953\"],[0.7777777777777778,\"#fb9f3a\"],[0.8888888888888888,\"#fdca26\"],[1.0,\"#f0f921\"]],\"type\":\"contour\"}],\"heatmapgl\":[{\"colorbar\":{\"outlinewidth\":0,\"ticks\":\"\"},\"colorscale\":[[0.0,\"#0d0887\"],[0.1111111111111111,\"#46039f\"],[0.2222222222222222,\"#7201a8\"],[0.3333333333333333,\"#9c179e\"],[0.4444444444444444,\"#bd3786\"],[0.5555555555555556,\"#d8576b\"],[0.6666666666666666,\"#ed7953\"],[0.7777777777777778,\"#fb9f3a\"],[0.8888888888888888,\"#fdca26\"],[1.0,\"#f0f921\"]],\"type\":\"heatmapgl\"}],\"heatmap\":[{\"colorbar\":{\"outlinewidth\":0,\"ticks\":\"\"},\"colorscale\":[[0.0,\"#0d0887\"],[0.1111111111111111,\"#46039f\"],[0.2222222222222222,\"#7201a8\"],[0.3333333333333333,\"#9c179e\"],[0.4444444444444444,\"#bd3786\"],[0.5555555555555556,\"#d8576b\"],[0.6666666666666666,\"#ed7953\"],[0.7777777777777778,\"#fb9f3a\"],[0.8888888888888888,\"#fdca26\"],[1.0,\"#f0f921\"]],\"type\":\"heatmap\"}],\"histogram2dcontour\":[{\"colorbar\":{\"outlinewidth\":0,\"ticks\":\"\"},\"colorscale\":[[0.0,\"#0d0887\"],[0.1111111111111111,\"#46039f\"],[0.2222222222222222,\"#7201a8\"],[0.3333333333333333,\"#9c179e\"],[0.4444444444444444,\"#bd3786\"],[0.5555555555555556,\"#d8576b\"],[0.6666666666666666,\"#ed7953\"],[0.7777777777777778,\"#fb9f3a\"],[0.8888888888888888,\"#fdca26\"],[1.0,\"#f0f921\"]],\"type\":\"histogram2dcontour\"}],\"histogram2d\":[{\"colorbar\":{\"outlinewidth\":0,\"ticks\":\"\"},\"colorscale\":[[0.0,\"#0d0887\"],[0.1111111111111111,\"#46039f\"],[0.2222222222222222,\"#7201a8\"],[0.3333333333333333,\"#9c179e\"],[0.4444444444444444,\"#bd3786\"],[0.5555555555555556,\"#d8576b\"],[0.6666666666666666,\"#ed7953\"],[0.7777777777777778,\"#fb9f3a\"],[0.8888888888888888,\"#fdca26\"],[1.0,\"#f0f921\"]],\"type\":\"histogram2d\"}],\"histogram\":[{\"marker\":{\"pattern\":{\"fillmode\":\"overlay\",\"size\":10,\"solidity\":0.2}},\"type\":\"histogram\"}],\"mesh3d\":[{\"colorbar\":{\"outlinewidth\":0,\"ticks\":\"\"},\"type\":\"mesh3d\"}],\"parcoords\":[{\"line\":{\"colorbar\":{\"outlinewidth\":0,\"ticks\":\"\"}},\"type\":\"parcoords\"}],\"pie\":[{\"automargin\":true,\"type\":\"pie\"}],\"scatter3d\":[{\"line\":{\"colorbar\":{\"outlinewidth\":0,\"ticks\":\"\"}},\"marker\":{\"colorbar\":{\"outlinewidth\":0,\"ticks\":\"\"}},\"type\":\"scatter3d\"}],\"scattercarpet\":[{\"marker\":{\"colorbar\":{\"outlinewidth\":0,\"ticks\":\"\"}},\"type\":\"scattercarpet\"}],\"scattergeo\":[{\"marker\":{\"colorbar\":{\"outlinewidth\":0,\"ticks\":\"\"}},\"type\":\"scattergeo\"}],\"scattergl\":[{\"marker\":{\"line\":{\"color\":\"#283442\"}},\"type\":\"scattergl\"}],\"scattermapbox\":[{\"marker\":{\"colorbar\":{\"outlinewidth\":0,\"ticks\":\"\"}},\"type\":\"scattermapbox\"}],\"scatterpolargl\":[{\"marker\":{\"colorbar\":{\"outlinewidth\":0,\"ticks\":\"\"}},\"type\":\"scatterpolargl\"}],\"scatterpolar\":[{\"marker\":{\"colorbar\":{\"outlinewidth\":0,\"ticks\":\"\"}},\"type\":\"scatterpolar\"}],\"scatter\":[{\"marker\":{\"line\":{\"color\":\"#283442\"}},\"type\":\"scatter\"}],\"scatterternary\":[{\"marker\":{\"colorbar\":{\"outlinewidth\":0,\"ticks\":\"\"}},\"type\":\"scatterternary\"}],\"surface\":[{\"colorbar\":{\"outlinewidth\":0,\"ticks\":\"\"},\"colorscale\":[[0.0,\"#0d0887\"],[0.1111111111111111,\"#46039f\"],[0.2222222222222222,\"#7201a8\"],[0.3333333333333333,\"#9c179e\"],[0.4444444444444444,\"#bd3786\"],[0.5555555555555556,\"#d8576b\"],[0.6666666666666666,\"#ed7953\"],[0.7777777777777778,\"#fb9f3a\"],[0.8888888888888888,\"#fdca26\"],[1.0,\"#f0f921\"]],\"type\":\"surface\"}],\"table\":[{\"cells\":{\"fill\":{\"color\":\"#506784\"},\"line\":{\"color\":\"rgb(17,17,17)\"}},\"header\":{\"fill\":{\"color\":\"#2a3f5f\"},\"line\":{\"color\":\"rgb(17,17,17)\"}},\"type\":\"table\"}]},\"layout\":{\"annotationdefaults\":{\"arrowcolor\":\"#f2f5fa\",\"arrowhead\":0,\"arrowwidth\":1},\"autotypenumbers\":\"strict\",\"coloraxis\":{\"colorbar\":{\"outlinewidth\":0,\"ticks\":\"\"}},\"colorscale\":{\"diverging\":[[0,\"#8e0152\"],[0.1,\"#c51b7d\"],[0.2,\"#de77ae\"],[0.3,\"#f1b6da\"],[0.4,\"#fde0ef\"],[0.5,\"#f7f7f7\"],[0.6,\"#e6f5d0\"],[0.7,\"#b8e186\"],[0.8,\"#7fbc41\"],[0.9,\"#4d9221\"],[1,\"#276419\"]],\"sequential\":[[0.0,\"#0d0887\"],[0.1111111111111111,\"#46039f\"],[0.2222222222222222,\"#7201a8\"],[0.3333333333333333,\"#9c179e\"],[0.4444444444444444,\"#bd3786\"],[0.5555555555555556,\"#d8576b\"],[0.6666666666666666,\"#ed7953\"],[0.7777777777777778,\"#fb9f3a\"],[0.8888888888888888,\"#fdca26\"],[1.0,\"#f0f921\"]],\"sequentialminus\":[[0.0,\"#0d0887\"],[0.1111111111111111,\"#46039f\"],[0.2222222222222222,\"#7201a8\"],[0.3333333333333333,\"#9c179e\"],[0.4444444444444444,\"#bd3786\"],[0.5555555555555556,\"#d8576b\"],[0.6666666666666666,\"#ed7953\"],[0.7777777777777778,\"#fb9f3a\"],[0.8888888888888888,\"#fdca26\"],[1.0,\"#f0f921\"]]},\"colorway\":[\"#636efa\",\"#EF553B\",\"#00cc96\",\"#ab63fa\",\"#FFA15A\",\"#19d3f3\",\"#FF6692\",\"#B6E880\",\"#FF97FF\",\"#FECB52\"],\"font\":{\"color\":\"#f2f5fa\"},\"geo\":{\"bgcolor\":\"rgb(17,17,17)\",\"lakecolor\":\"rgb(17,17,17)\",\"landcolor\":\"rgb(17,17,17)\",\"showlakes\":true,\"showland\":true,\"subunitcolor\":\"#506784\"},\"hoverlabel\":{\"align\":\"left\"},\"hovermode\":\"closest\",\"mapbox\":{\"style\":\"dark\"},\"paper_bgcolor\":\"rgb(17,17,17)\",\"plot_bgcolor\":\"rgb(17,17,17)\",\"polar\":{\"angularaxis\":{\"gridcolor\":\"#506784\",\"linecolor\":\"#506784\",\"ticks\":\"\"},\"bgcolor\":\"rgb(17,17,17)\",\"radialaxis\":{\"gridcolor\":\"#506784\",\"linecolor\":\"#506784\",\"ticks\":\"\"}},\"scene\":{\"xaxis\":{\"backgroundcolor\":\"rgb(17,17,17)\",\"gridcolor\":\"#506784\",\"gridwidth\":2,\"linecolor\":\"#506784\",\"showbackground\":true,\"ticks\":\"\",\"zerolinecolor\":\"#C8D4E3\"},\"yaxis\":{\"backgroundcolor\":\"rgb(17,17,17)\",\"gridcolor\":\"#506784\",\"gridwidth\":2,\"linecolor\":\"#506784\",\"showbackground\":true,\"ticks\":\"\",\"zerolinecolor\":\"#C8D4E3\"},\"zaxis\":{\"backgroundcolor\":\"rgb(17,17,17)\",\"gridcolor\":\"#506784\",\"gridwidth\":2,\"linecolor\":\"#506784\",\"showbackground\":true,\"ticks\":\"\",\"zerolinecolor\":\"#C8D4E3\"}},\"shapedefaults\":{\"line\":{\"color\":\"#f2f5fa\"}},\"sliderdefaults\":{\"bgcolor\":\"#C8D4E3\",\"bordercolor\":\"rgb(17,17,17)\",\"borderwidth\":1,\"tickwidth\":0},\"ternary\":{\"aaxis\":{\"gridcolor\":\"#506784\",\"linecolor\":\"#506784\",\"ticks\":\"\"},\"baxis\":{\"gridcolor\":\"#506784\",\"linecolor\":\"#506784\",\"ticks\":\"\"},\"bgcolor\":\"rgb(17,17,17)\",\"caxis\":{\"gridcolor\":\"#506784\",\"linecolor\":\"#506784\",\"ticks\":\"\"}},\"title\":{\"x\":0.05},\"updatemenudefaults\":{\"bgcolor\":\"#506784\",\"borderwidth\":0},\"xaxis\":{\"automargin\":true,\"gridcolor\":\"#283442\",\"linecolor\":\"#506784\",\"ticks\":\"\",\"title\":{\"standoff\":15},\"zerolinecolor\":\"#283442\",\"zerolinewidth\":2},\"yaxis\":{\"automargin\":true,\"gridcolor\":\"#283442\",\"linecolor\":\"#506784\",\"ticks\":\"\",\"title\":{\"standoff\":15},\"zerolinecolor\":\"#283442\",\"zerolinewidth\":2}}},\"xaxis\":{\"anchor\":\"y\",\"domain\":[0.0,1.0],\"title\":{\"text\":\"Number of models\"},\"tickmode\":\"array\",\"tickvals\":[1,2]},\"yaxis\":{\"anchor\":\"x\",\"domain\":[0.0,1.0],\"title\":{\"text\":\"roc_auc_score\"}},\"legend\":{\"tracegroupgap\":0},\"title\":{\"text\":\"Cross Validation roc_auc_score vs. Number of Models with Hill Climbing\"},\"autosize\":false,\"width\":900,\"height\":500},                        {\"responsive\": true}                    ).then(function(){\n",
       "                            \n",
       "var gd = document.getElementById('753c5e77-6a14-4049-a226-1b120e3855f7');\n",
       "var x = new MutationObserver(function (mutations, observer) {{\n",
       "        var display = window.getComputedStyle(gd).display;\n",
       "        if (!display || display === 'none') {{\n",
       "            console.log([gd, 'removed!']);\n",
       "            Plotly.purge(gd);\n",
       "            observer.disconnect();\n",
       "        }}\n",
       "}});\n",
       "\n",
       "// Listen for the removal of the full notebook cells\n",
       "var notebookContainer = gd.closest('#notebook-container');\n",
       "if (notebookContainer) {{\n",
       "    x.observe(notebookContainer, {childList: true});\n",
       "}}\n",
       "\n",
       "// Listen for the clearing of the current output cell\n",
       "var outputEl = gd.closest('.output');\n",
       "if (outputEl) {{\n",
       "    x.observe(outputEl, {childList: true});\n",
       "}}\n",
       "\n",
       "                        })                };                });            </script>        </div>"
      ]
     },
     "metadata": {},
     "output_type": "display_data"
    }
   ],
   "source": [
    "hc_test_pred_probs, hc_oof_pred_probs = climb_hill(\n",
    "    train=train, \n",
    "    oof_pred_df=pd.DataFrame(oof_pred_probs), \n",
    "    test_pred_df=pd.DataFrame(test_pred_probs),\n",
    "    target='loan_status',\n",
    "    objective='maximize', \n",
    "    eval_metric=partial(roc_auc_score),\n",
    "    negative_weights=True, \n",
    "    precision=0.001, \n",
    "    plot_hill=True, \n",
    "    plot_hist=False,\n",
    "    return_oof_preds=True\n",
    ")"
   ]
  },
  {
   "cell_type": "code",
   "execution_count": 79,
   "id": "8be65550-54f2-426f-939b-59147987f452",
   "metadata": {},
   "outputs": [],
   "source": [
    "hc_score = roc_auc_score(y, hc_oof_pred_probs)\n",
    "scores['Hill Climbing'] = [hc_score] *5"
   ]
  },
  {
   "cell_type": "code",
   "execution_count": 80,
   "id": "d5966e56-be1f-49a0-8b3e-e60bdd52f349",
   "metadata": {},
   "outputs": [
    {
     "data": {
      "text/html": [
       "<div>\n",
       "<style scoped>\n",
       "    .dataframe tbody tr th:only-of-type {\n",
       "        vertical-align: middle;\n",
       "    }\n",
       "\n",
       "    .dataframe tbody tr th {\n",
       "        vertical-align: top;\n",
       "    }\n",
       "\n",
       "    .dataframe thead th {\n",
       "        text-align: right;\n",
       "    }\n",
       "</style>\n",
       "<table border=\"1\" class=\"dataframe\">\n",
       "  <thead>\n",
       "    <tr style=\"text-align: right;\">\n",
       "      <th></th>\n",
       "      <th>id</th>\n",
       "      <th>loan_status</th>\n",
       "    </tr>\n",
       "  </thead>\n",
       "  <tbody>\n",
       "    <tr>\n",
       "      <th>0</th>\n",
       "      <td>58645</td>\n",
       "      <td>0.993850</td>\n",
       "    </tr>\n",
       "    <tr>\n",
       "      <th>1</th>\n",
       "      <td>58646</td>\n",
       "      <td>0.044019</td>\n",
       "    </tr>\n",
       "    <tr>\n",
       "      <th>2</th>\n",
       "      <td>58647</td>\n",
       "      <td>0.590983</td>\n",
       "    </tr>\n",
       "    <tr>\n",
       "      <th>3</th>\n",
       "      <td>58648</td>\n",
       "      <td>0.011415</td>\n",
       "    </tr>\n",
       "    <tr>\n",
       "      <th>4</th>\n",
       "      <td>58649</td>\n",
       "      <td>0.064028</td>\n",
       "    </tr>\n",
       "  </tbody>\n",
       "</table>\n",
       "</div>"
      ],
      "text/plain": [
       "      id  loan_status\n",
       "0  58645     0.993850\n",
       "1  58646     0.044019\n",
       "2  58647     0.590983\n",
       "3  58648     0.011415\n",
       "4  58649     0.064028"
      ]
     },
     "execution_count": 80,
     "metadata": {},
     "output_type": "execute_result"
    }
   ],
   "source": [
    "hc_sub = pd.read_csv(\"sample_submission.csv\")\n",
    "hc_sub[\"loan_status\"] = hc_test_pred_probs\n",
    "hc_sub.to_csv(f'sub_hill-climbing_{hc_score:.6f}.csv', index=False)\n",
    "hc_sub.head()"
   ]
  },
  {
   "cell_type": "code",
   "execution_count": 81,
   "id": "ac494e45-e1cb-4538-b574-22d6195e52de",
   "metadata": {},
   "outputs": [
    {
     "data": {
      "image/png": "[encoded data removed]",
      "text/plain": [
       "<Figure size 1500x300 with 2 Axes>"
      ]
     },
     "metadata": {},
     "output_type": "display_data"
    }
   ],
   "source": [
    "scores = pd.DataFrame(scores)\n",
    "mean_scores = scores.mean().sort_values(ascending=False)\n",
    "order = scores.mean().sort_values(ascending=False).index.tolist()\n",
    "\n",
    "min_score = mean_scores.min()\n",
    "max_score = mean_scores.max()\n",
    "padding = (max_score - min_score) * 0.5\n",
    "lower_limit = min_score - padding\n",
    "upper_limit = max_score + padding\n",
    "\n",
    "fig, axs = plt.subplots(1, 2, figsize=(15, scores.shape[1] * 0.6))\n",
    "\n",
    "sns.boxplot(data=scores, order=order, ax=axs[0], orient='h', palette='RdYlGn_r')\n",
    "axs[0].set_title('Fold AUC')\n",
    "axs[0].set_xlabel('')\n",
    "axs[0].set_ylabel('')\n",
    "\n",
    "barplot = sns.barplot(x=mean_scores.values, y=mean_scores.index, ax=axs[1], palette='RdYlGn_r')\n",
    "axs[1].set_title('Average AUC')\n",
    "axs[1].set_xlabel('')\n",
    "axs[1].set_xlim(left=lower_limit, right=upper_limit)\n",
    "axs[1].set_ylabel('')\n",
    "\n",
    "for i, score in enumerate(mean_scores.values):\n",
    "    barplot.text(score, i, round(score, 6), va='center')\n",
    "\n",
    "plt.tight_layout()\n",
    "plt.show()"
   ]
  },
  {
   "cell_type": "code",
   "execution_count": null,
   "id": "9798879e-802f-4f0d-9b62-accac5dcab0d",
   "metadata": {},
   "outputs": [],
   "source": []
  }
 ],
 "metadata": {
  "kernelspec": {
   "display_name": "Python 3 (ipykernel)",
   "language": "python",
   "name": "python3"
  },
  "language_info": {
   "codemirror_mode": {
    "name": "ipython",
    "version": 3
   },
   "file_extension": ".py",
   "mimetype": "text/x-python",
   "name": "python",
   "nbconvert_exporter": "python",
   "pygments_lexer": "ipython3",
   "version": "3.9.12"
  }
 },
 "nbformat": 4,
 "nbformat_minor": 5
}
